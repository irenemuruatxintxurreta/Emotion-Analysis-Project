{
 "cells": [
  {
   "cell_type": "code",
   "execution_count": 2,
   "metadata": {
    "colab": {
     "base_uri": "https://localhost:8080/"
    },
    "id": "yQFtmVTp7Hau",
    "outputId": "ef5fab10-2478-45c9-e472-8a73b4d8584f"
   },
   "outputs": [
    {
     "name": "stdout",
     "output_type": "stream",
     "text": [
      "Requirement already satisfied: transformers in /usr/local/lib/python3.11/dist-packages (4.51.3)\n",
      "Requirement already satisfied: datasets in /usr/local/lib/python3.11/dist-packages (3.6.0)\n",
      "Requirement already satisfied: scikit-learn in /usr/local/lib/python3.11/dist-packages (1.6.1)\n",
      "Requirement already satisfied: filelock in /usr/local/lib/python3.11/dist-packages (from transformers) (3.18.0)\n",
      "Requirement already satisfied: huggingface-hub<1.0,>=0.30.0 in /usr/local/lib/python3.11/dist-packages (from transformers) (0.31.1)\n",
      "Requirement already satisfied: numpy>=1.17 in /usr/local/lib/python3.11/dist-packages (from transformers) (2.0.2)\n",
      "Requirement already satisfied: packaging>=20.0 in /usr/local/lib/python3.11/dist-packages (from transformers) (24.2)\n",
      "Requirement already satisfied: pyyaml>=5.1 in /usr/local/lib/python3.11/dist-packages (from transformers) (6.0.2)\n",
      "Requirement already satisfied: regex!=2019.12.17 in /usr/local/lib/python3.11/dist-packages (from transformers) (2024.11.6)\n",
      "Requirement already satisfied: requests in /usr/local/lib/python3.11/dist-packages (from transformers) (2.32.3)\n",
      "Requirement already satisfied: tokenizers<0.22,>=0.21 in /usr/local/lib/python3.11/dist-packages (from transformers) (0.21.1)\n",
      "Requirement already satisfied: safetensors>=0.4.3 in /usr/local/lib/python3.11/dist-packages (from transformers) (0.5.3)\n",
      "Requirement already satisfied: tqdm>=4.27 in /usr/local/lib/python3.11/dist-packages (from transformers) (4.67.1)\n",
      "Requirement already satisfied: pyarrow>=15.0.0 in /usr/local/lib/python3.11/dist-packages (from datasets) (18.1.0)\n",
      "Requirement already satisfied: dill<0.3.9,>=0.3.0 in /usr/local/lib/python3.11/dist-packages (from datasets) (0.3.7)\n",
      "Requirement already satisfied: pandas in /usr/local/lib/python3.11/dist-packages (from datasets) (2.2.2)\n",
      "Requirement already satisfied: xxhash in /usr/local/lib/python3.11/dist-packages (from datasets) (3.5.0)\n",
      "Requirement already satisfied: multiprocess<0.70.17 in /usr/local/lib/python3.11/dist-packages (from datasets) (0.70.15)\n",
      "Requirement already satisfied: fsspec<=2025.3.0,>=2023.1.0 in /usr/local/lib/python3.11/dist-packages (from fsspec[http]<=2025.3.0,>=2023.1.0->datasets) (2025.3.0)\n",
      "Requirement already satisfied: scipy>=1.6.0 in /usr/local/lib/python3.11/dist-packages (from scikit-learn) (1.15.2)\n",
      "Requirement already satisfied: joblib>=1.2.0 in /usr/local/lib/python3.11/dist-packages (from scikit-learn) (1.5.0)\n",
      "Requirement already satisfied: threadpoolctl>=3.1.0 in /usr/local/lib/python3.11/dist-packages (from scikit-learn) (3.6.0)\n",
      "Requirement already satisfied: aiohttp!=4.0.0a0,!=4.0.0a1 in /usr/local/lib/python3.11/dist-packages (from fsspec[http]<=2025.3.0,>=2023.1.0->datasets) (3.11.15)\n",
      "Requirement already satisfied: typing-extensions>=3.7.4.3 in /usr/local/lib/python3.11/dist-packages (from huggingface-hub<1.0,>=0.30.0->transformers) (4.13.2)\n",
      "Requirement already satisfied: hf-xet<2.0.0,>=1.1.0 in /usr/local/lib/python3.11/dist-packages (from huggingface-hub<1.0,>=0.30.0->transformers) (1.1.0)\n",
      "Requirement already satisfied: charset-normalizer<4,>=2 in /usr/local/lib/python3.11/dist-packages (from requests->transformers) (3.4.2)\n",
      "Requirement already satisfied: idna<4,>=2.5 in /usr/local/lib/python3.11/dist-packages (from requests->transformers) (3.10)\n",
      "Requirement already satisfied: urllib3<3,>=1.21.1 in /usr/local/lib/python3.11/dist-packages (from requests->transformers) (2.4.0)\n",
      "Requirement already satisfied: certifi>=2017.4.17 in /usr/local/lib/python3.11/dist-packages (from requests->transformers) (2025.4.26)\n",
      "Requirement already satisfied: python-dateutil>=2.8.2 in /usr/local/lib/python3.11/dist-packages (from pandas->datasets) (2.9.0.post0)\n",
      "Requirement already satisfied: pytz>=2020.1 in /usr/local/lib/python3.11/dist-packages (from pandas->datasets) (2025.2)\n",
      "Requirement already satisfied: tzdata>=2022.7 in /usr/local/lib/python3.11/dist-packages (from pandas->datasets) (2025.2)\n",
      "Requirement already satisfied: aiohappyeyeballs>=2.3.0 in /usr/local/lib/python3.11/dist-packages (from aiohttp!=4.0.0a0,!=4.0.0a1->fsspec[http]<=2025.3.0,>=2023.1.0->datasets) (2.6.1)\n",
      "Requirement already satisfied: aiosignal>=1.1.2 in /usr/local/lib/python3.11/dist-packages (from aiohttp!=4.0.0a0,!=4.0.0a1->fsspec[http]<=2025.3.0,>=2023.1.0->datasets) (1.3.2)\n",
      "Requirement already satisfied: attrs>=17.3.0 in /usr/local/lib/python3.11/dist-packages (from aiohttp!=4.0.0a0,!=4.0.0a1->fsspec[http]<=2025.3.0,>=2023.1.0->datasets) (25.3.0)\n",
      "Requirement already satisfied: frozenlist>=1.1.1 in /usr/local/lib/python3.11/dist-packages (from aiohttp!=4.0.0a0,!=4.0.0a1->fsspec[http]<=2025.3.0,>=2023.1.0->datasets) (1.6.0)\n",
      "Requirement already satisfied: multidict<7.0,>=4.5 in /usr/local/lib/python3.11/dist-packages (from aiohttp!=4.0.0a0,!=4.0.0a1->fsspec[http]<=2025.3.0,>=2023.1.0->datasets) (6.4.3)\n",
      "Requirement already satisfied: propcache>=0.2.0 in /usr/local/lib/python3.11/dist-packages (from aiohttp!=4.0.0a0,!=4.0.0a1->fsspec[http]<=2025.3.0,>=2023.1.0->datasets) (0.3.1)\n",
      "Requirement already satisfied: yarl<2.0,>=1.17.0 in /usr/local/lib/python3.11/dist-packages (from aiohttp!=4.0.0a0,!=4.0.0a1->fsspec[http]<=2025.3.0,>=2023.1.0->datasets) (1.20.0)\n",
      "Requirement already satisfied: six>=1.5 in /usr/local/lib/python3.11/dist-packages (from python-dateutil>=2.8.2->pandas->datasets) (1.17.0)\n"
     ]
    }
   ],
   "source": [
    "!pip install transformers datasets scikit-learn\n"
   ]
  },
  {
   "cell_type": "code",
   "execution_count": 1,
   "metadata": {
    "colab": {
     "base_uri": "https://localhost:8080/"
    },
    "id": "IgucCl2hc6OB",
    "outputId": "432f5431-6ef5-44a6-88b6-1d5667270bfc"
   },
   "outputs": [
    {
     "name": "stdout",
     "output_type": "stream",
     "text": [
      "Requirement already satisfied: fsspec in /usr/local/lib/python3.11/dist-packages (2025.3.2)\n",
      "Requirement already satisfied: datasets in /usr/local/lib/python3.11/dist-packages (2.14.4)\n",
      "Collecting datasets\n",
      "  Downloading datasets-3.6.0-py3-none-any.whl.metadata (19 kB)\n",
      "Requirement already satisfied: filelock in /usr/local/lib/python3.11/dist-packages (from datasets) (3.18.0)\n",
      "Requirement already satisfied: numpy>=1.17 in /usr/local/lib/python3.11/dist-packages (from datasets) (2.0.2)\n",
      "Requirement already satisfied: pyarrow>=15.0.0 in /usr/local/lib/python3.11/dist-packages (from datasets) (18.1.0)\n",
      "Requirement already satisfied: dill<0.3.9,>=0.3.0 in /usr/local/lib/python3.11/dist-packages (from datasets) (0.3.7)\n",
      "Requirement already satisfied: pandas in /usr/local/lib/python3.11/dist-packages (from datasets) (2.2.2)\n",
      "Requirement already satisfied: requests>=2.32.2 in /usr/local/lib/python3.11/dist-packages (from datasets) (2.32.3)\n",
      "Requirement already satisfied: tqdm>=4.66.3 in /usr/local/lib/python3.11/dist-packages (from datasets) (4.67.1)\n",
      "Requirement already satisfied: xxhash in /usr/local/lib/python3.11/dist-packages (from datasets) (3.5.0)\n",
      "Requirement already satisfied: multiprocess<0.70.17 in /usr/local/lib/python3.11/dist-packages (from datasets) (0.70.15)\n",
      "Collecting fsspec\n",
      "  Downloading fsspec-2025.3.0-py3-none-any.whl.metadata (11 kB)\n",
      "Requirement already satisfied: huggingface-hub>=0.24.0 in /usr/local/lib/python3.11/dist-packages (from datasets) (0.31.1)\n",
      "Requirement already satisfied: packaging in /usr/local/lib/python3.11/dist-packages (from datasets) (24.2)\n",
      "Requirement already satisfied: pyyaml>=5.1 in /usr/local/lib/python3.11/dist-packages (from datasets) (6.0.2)\n",
      "Requirement already satisfied: aiohttp!=4.0.0a0,!=4.0.0a1 in /usr/local/lib/python3.11/dist-packages (from fsspec[http]<=2025.3.0,>=2023.1.0->datasets) (3.11.15)\n",
      "Requirement already satisfied: typing-extensions>=3.7.4.3 in /usr/local/lib/python3.11/dist-packages (from huggingface-hub>=0.24.0->datasets) (4.13.2)\n",
      "Requirement already satisfied: hf-xet<2.0.0,>=1.1.0 in /usr/local/lib/python3.11/dist-packages (from huggingface-hub>=0.24.0->datasets) (1.1.0)\n",
      "Requirement already satisfied: charset-normalizer<4,>=2 in /usr/local/lib/python3.11/dist-packages (from requests>=2.32.2->datasets) (3.4.2)\n",
      "Requirement already satisfied: idna<4,>=2.5 in /usr/local/lib/python3.11/dist-packages (from requests>=2.32.2->datasets) (3.10)\n",
      "Requirement already satisfied: urllib3<3,>=1.21.1 in /usr/local/lib/python3.11/dist-packages (from requests>=2.32.2->datasets) (2.4.0)\n",
      "Requirement already satisfied: certifi>=2017.4.17 in /usr/local/lib/python3.11/dist-packages (from requests>=2.32.2->datasets) (2025.4.26)\n",
      "Requirement already satisfied: python-dateutil>=2.8.2 in /usr/local/lib/python3.11/dist-packages (from pandas->datasets) (2.9.0.post0)\n",
      "Requirement already satisfied: pytz>=2020.1 in /usr/local/lib/python3.11/dist-packages (from pandas->datasets) (2025.2)\n",
      "Requirement already satisfied: tzdata>=2022.7 in /usr/local/lib/python3.11/dist-packages (from pandas->datasets) (2025.2)\n",
      "Requirement already satisfied: aiohappyeyeballs>=2.3.0 in /usr/local/lib/python3.11/dist-packages (from aiohttp!=4.0.0a0,!=4.0.0a1->fsspec[http]<=2025.3.0,>=2023.1.0->datasets) (2.6.1)\n",
      "Requirement already satisfied: aiosignal>=1.1.2 in /usr/local/lib/python3.11/dist-packages (from aiohttp!=4.0.0a0,!=4.0.0a1->fsspec[http]<=2025.3.0,>=2023.1.0->datasets) (1.3.2)\n",
      "Requirement already satisfied: attrs>=17.3.0 in /usr/local/lib/python3.11/dist-packages (from aiohttp!=4.0.0a0,!=4.0.0a1->fsspec[http]<=2025.3.0,>=2023.1.0->datasets) (25.3.0)\n",
      "Requirement already satisfied: frozenlist>=1.1.1 in /usr/local/lib/python3.11/dist-packages (from aiohttp!=4.0.0a0,!=4.0.0a1->fsspec[http]<=2025.3.0,>=2023.1.0->datasets) (1.6.0)\n",
      "Requirement already satisfied: multidict<7.0,>=4.5 in /usr/local/lib/python3.11/dist-packages (from aiohttp!=4.0.0a0,!=4.0.0a1->fsspec[http]<=2025.3.0,>=2023.1.0->datasets) (6.4.3)\n",
      "Requirement already satisfied: propcache>=0.2.0 in /usr/local/lib/python3.11/dist-packages (from aiohttp!=4.0.0a0,!=4.0.0a1->fsspec[http]<=2025.3.0,>=2023.1.0->datasets) (0.3.1)\n",
      "Requirement already satisfied: yarl<2.0,>=1.17.0 in /usr/local/lib/python3.11/dist-packages (from aiohttp!=4.0.0a0,!=4.0.0a1->fsspec[http]<=2025.3.0,>=2023.1.0->datasets) (1.20.0)\n",
      "Requirement already satisfied: six>=1.5 in /usr/local/lib/python3.11/dist-packages (from python-dateutil>=2.8.2->pandas->datasets) (1.17.0)\n",
      "Downloading datasets-3.6.0-py3-none-any.whl (491 kB)\n",
      "\u001b[2K   \u001b[90m━━━━━━━━━━━━━━━━━━━━━━━━━━━━━━━━━━━━━━━━\u001b[0m \u001b[32m491.5/491.5 kB\u001b[0m \u001b[31m9.3 MB/s\u001b[0m eta \u001b[36m0:00:00\u001b[0m\n",
      "\u001b[?25hDownloading fsspec-2025.3.0-py3-none-any.whl (193 kB)\n",
      "\u001b[2K   \u001b[90m━━━━━━━━━━━━━━━━━━━━━━━━━━━━━━━━━━━━━━━━\u001b[0m \u001b[32m193.6/193.6 kB\u001b[0m \u001b[31m5.9 MB/s\u001b[0m eta \u001b[36m0:00:00\u001b[0m\n",
      "\u001b[?25hInstalling collected packages: fsspec, datasets\n",
      "  Attempting uninstall: fsspec\n",
      "    Found existing installation: fsspec 2025.3.2\n",
      "    Uninstalling fsspec-2025.3.2:\n",
      "      Successfully uninstalled fsspec-2025.3.2\n",
      "  Attempting uninstall: datasets\n",
      "    Found existing installation: datasets 2.14.4\n",
      "    Uninstalling datasets-2.14.4:\n",
      "      Successfully uninstalled datasets-2.14.4\n",
      "\u001b[31mERROR: pip's dependency resolver does not currently take into account all the packages that are installed. This behaviour is the source of the following dependency conflicts.\n",
      "torch 2.6.0+cu124 requires nvidia-cublas-cu12==12.4.5.8; platform_system == \"Linux\" and platform_machine == \"x86_64\", but you have nvidia-cublas-cu12 12.5.3.2 which is incompatible.\n",
      "torch 2.6.0+cu124 requires nvidia-cuda-cupti-cu12==12.4.127; platform_system == \"Linux\" and platform_machine == \"x86_64\", but you have nvidia-cuda-cupti-cu12 12.5.82 which is incompatible.\n",
      "torch 2.6.0+cu124 requires nvidia-cuda-nvrtc-cu12==12.4.127; platform_system == \"Linux\" and platform_machine == \"x86_64\", but you have nvidia-cuda-nvrtc-cu12 12.5.82 which is incompatible.\n",
      "torch 2.6.0+cu124 requires nvidia-cuda-runtime-cu12==12.4.127; platform_system == \"Linux\" and platform_machine == \"x86_64\", but you have nvidia-cuda-runtime-cu12 12.5.82 which is incompatible.\n",
      "torch 2.6.0+cu124 requires nvidia-cudnn-cu12==9.1.0.70; platform_system == \"Linux\" and platform_machine == \"x86_64\", but you have nvidia-cudnn-cu12 9.3.0.75 which is incompatible.\n",
      "torch 2.6.0+cu124 requires nvidia-cufft-cu12==11.2.1.3; platform_system == \"Linux\" and platform_machine == \"x86_64\", but you have nvidia-cufft-cu12 11.2.3.61 which is incompatible.\n",
      "torch 2.6.0+cu124 requires nvidia-curand-cu12==10.3.5.147; platform_system == \"Linux\" and platform_machine == \"x86_64\", but you have nvidia-curand-cu12 10.3.6.82 which is incompatible.\n",
      "torch 2.6.0+cu124 requires nvidia-cusolver-cu12==11.6.1.9; platform_system == \"Linux\" and platform_machine == \"x86_64\", but you have nvidia-cusolver-cu12 11.6.3.83 which is incompatible.\n",
      "torch 2.6.0+cu124 requires nvidia-cusparse-cu12==12.3.1.170; platform_system == \"Linux\" and platform_machine == \"x86_64\", but you have nvidia-cusparse-cu12 12.5.1.3 which is incompatible.\n",
      "torch 2.6.0+cu124 requires nvidia-nvjitlink-cu12==12.4.127; platform_system == \"Linux\" and platform_machine == \"x86_64\", but you have nvidia-nvjitlink-cu12 12.5.82 which is incompatible.\n",
      "gcsfs 2025.3.2 requires fsspec==2025.3.2, but you have fsspec 2025.3.0 which is incompatible.\u001b[0m\u001b[31m\n",
      "\u001b[0mSuccessfully installed datasets-3.6.0 fsspec-2025.3.0\n"
     ]
    }
   ],
   "source": [
    "!pip install --upgrade fsspec datasets"
   ]
  },
  {
   "cell_type": "markdown",
   "metadata": {
    "id": "TMM6HreE7bAj"
   },
   "source": [
    "🧠 STEP 1: Load the Dataset"
   ]
  },
  {
   "cell_type": "code",
   "execution_count": 3,
   "metadata": {
    "colab": {
     "base_uri": "https://localhost:8080/",
     "height": 345,
     "referenced_widgets": [
      "1364d212fd4c4693bc591a0fced7f966",
      "8b72ffe7c2314b2d8b4071012939a6ff",
      "9fa2c271a7a8478c9f1fb0d300a450f9",
      "e5f6b3d7c7f049f29465a93fca706889",
      "0534ff300c8d4351882b227a0cd6129a",
      "e49cec8aad0846e2aeaaef67a09460a0",
      "d06dbf40a7d7443da26d6b976f068968",
      "ee2d43ecaf5a4d039fe70fe60a3b33ee",
      "ee3bd18090e044d6b0f81420f49fca1c",
      "e04e584cf154407ba80a642d14d222a5",
      "5787e9f76a854e3090407c3c8fe5042b",
      "277a7a28944b4ff7a28807f16d984b0c",
      "6873ad269a3744088ffedf7d0349c9fb",
      "4502fe637ee443a2918014dc5aef0be2",
      "3979dbeae50e401b8f5e616c4f39440d",
      "47ddfe3ee7b94aa59bc06a52ccde0005",
      "ead28fab28ee4feab734ccd12eccd045",
      "550f86742f804184a8bdbfe5ed5b2f2d",
      "2199057a2f8a476890e629381b953da4",
      "6b85b2d737364c6189eeecfb131d476c",
      "ff33bf63b08d4dc78b49723770a8c10d",
      "8b0be269d5ad4d8eba646eb44872470e",
      "ee14313f2065491693e0090cab52ec43",
      "7f99f0797634471ba061199118a52260",
      "0e562f56fb2f4cdea5aafd7624899292",
      "3496c856f85648079c88e95d00f98623",
      "4403af9100524bad9db2cbfb2a0b6646",
      "52ee2ba200cb40138c1c57bc13b80de7",
      "3a34c4aa5e0743e1881c4e35534090b7",
      "f45212c8571342e3be5d5eaacafc4870",
      "06d1a38f02ae4eeb8e65146d04a6e87f",
      "577faccb456d4cfe8d6f5b936bf7a952",
      "7cc24b8052f0466bbddf054f863889ed",
      "c2465bdff35b436d8ae8d5fec28e1f1a",
      "447a1be23b7c47eeb5bf2be53f672bb9",
      "5fdea31b2f57416db7b7bb2a9d6ce29c",
      "390d0e6ec62d436f857a8037060e4813",
      "bfb6d34848a743059198f83f2b1a0354",
      "7f8a1cf9d9c54c2db041e91016058dcc",
      "353ec3332b8b4e7292a988ae78e73eb2",
      "32c0b7380a2243afb648c865249a8581",
      "ceac4719c5a4431c8306227c6bb54d5c",
      "4e731e2e3415420ea1ea48a53c2b61a0",
      "011f9796fe814e7f8b01943bea1cd455",
      "6fed05445cc1426d9a1bef62a4db55c0",
      "13615fcdff1b4e47b323348be0e576a0",
      "c5a24a8b6a994c00ab36672ca8bfdae7",
      "1ee59fc9480c4e08994d4f4fa37d629d",
      "7eceec0759eb460cb5e38d59d06b4f14",
      "4e70220c6e064132a1b8d5925a22fc5c",
      "91368c4cfc254830adaff0df6c19d003",
      "08628ca933db497cbc67188ab54b8cd1",
      "a01af2dd88e048e3971f4909319d15a6",
      "954abc93435a4208af34aeb4f77640a0",
      "95bd005266264916a2d72f7051145b70",
      "ec29b8178d8943a58b13d0b1c9e1d25b",
      "7c0585af3a83402ca5b48f805d83136c",
      "3941a4d1cf34415092d2b72414e80050",
      "a38bdba65c5545b698426fc73f9282ee",
      "cb878f4ab4fa4780802caa72e64f3fed",
      "002067b73830450c876f575f5ea196ac",
      "86d6ce0db75f4abd8ae07ba0f820f4f1",
      "c2f30b559f86413699407173c66f3355",
      "f78721841e2044df9587a3cabcc7c786",
      "392862ba8e544822b728a9aad6123462",
      "2310b2f11d544d5aa6e142aa7588adeb",
      "0f0e75f56afc43628e042a437a528c64",
      "93a66958f75d42f4afeba6287126bf3d",
      "7b2e950e20d94e51996312ad8d65496f",
      "0c3428030fd54626a20e9ca3819537a9",
      "e1ffc8381a8b4d6fbe52d09887face55",
      "935cc75eec9242858df24ea856fdad83",
      "78bd722f7c404f4282d8bd7ccbb74280",
      "08eb64c33ce14ed48b09cd7e0634ebd6",
      "79f7b706a1b8420c93554a4e099f4287",
      "b4d6a15a38ae4b178d317a9bf30a4d56",
      "5ca91a8acf1141db895684d7ae77b549"
     ]
    },
    "id": "qevO-je47Klz",
    "outputId": "814663ed-fc3a-4ff4-f30f-2a394478fde7"
   },
   "outputs": [
    {
     "name": "stderr",
     "output_type": "stream",
     "text": [
      "/usr/local/lib/python3.11/dist-packages/huggingface_hub/utils/_auth.py:94: UserWarning: \n",
      "The secret `HF_TOKEN` does not exist in your Colab secrets.\n",
      "To authenticate with the Hugging Face Hub, create a token in your settings tab (https://huggingface.co/settings/tokens), set it as secret in your Google Colab and restart your session.\n",
      "You will be able to reuse this secret in all of your notebooks.\n",
      "Please note that authentication is recommended but still optional to access public models or datasets.\n",
      "  warnings.warn(\n"
     ]
    },
    {
     "data": {
      "application/vnd.jupyter.widget-view+json": {
       "model_id": "1364d212fd4c4693bc591a0fced7f966",
       "version_major": 2,
       "version_minor": 0
      },
      "text/plain": [
       "README.md:   0%|          | 0.00/9.40k [00:00<?, ?B/s]"
      ]
     },
     "metadata": {},
     "output_type": "display_data"
    },
    {
     "data": {
      "application/vnd.jupyter.widget-view+json": {
       "model_id": "277a7a28944b4ff7a28807f16d984b0c",
       "version_major": 2,
       "version_minor": 0
      },
      "text/plain": [
       "train-00000-of-00001.parquet:   0%|          | 0.00/2.77M [00:00<?, ?B/s]"
      ]
     },
     "metadata": {},
     "output_type": "display_data"
    },
    {
     "data": {
      "application/vnd.jupyter.widget-view+json": {
       "model_id": "ee14313f2065491693e0090cab52ec43",
       "version_major": 2,
       "version_minor": 0
      },
      "text/plain": [
       "validation-00000-of-00001.parquet:   0%|          | 0.00/350k [00:00<?, ?B/s]"
      ]
     },
     "metadata": {},
     "output_type": "display_data"
    },
    {
     "data": {
      "application/vnd.jupyter.widget-view+json": {
       "model_id": "c2465bdff35b436d8ae8d5fec28e1f1a",
       "version_major": 2,
       "version_minor": 0
      },
      "text/plain": [
       "test-00000-of-00001.parquet:   0%|          | 0.00/347k [00:00<?, ?B/s]"
      ]
     },
     "metadata": {},
     "output_type": "display_data"
    },
    {
     "data": {
      "application/vnd.jupyter.widget-view+json": {
       "model_id": "6fed05445cc1426d9a1bef62a4db55c0",
       "version_major": 2,
       "version_minor": 0
      },
      "text/plain": [
       "Generating train split:   0%|          | 0/43410 [00:00<?, ? examples/s]"
      ]
     },
     "metadata": {},
     "output_type": "display_data"
    },
    {
     "data": {
      "application/vnd.jupyter.widget-view+json": {
       "model_id": "ec29b8178d8943a58b13d0b1c9e1d25b",
       "version_major": 2,
       "version_minor": 0
      },
      "text/plain": [
       "Generating validation split:   0%|          | 0/5426 [00:00<?, ? examples/s]"
      ]
     },
     "metadata": {},
     "output_type": "display_data"
    },
    {
     "data": {
      "application/vnd.jupyter.widget-view+json": {
       "model_id": "0f0e75f56afc43628e042a437a528c64",
       "version_major": 2,
       "version_minor": 0
      },
      "text/plain": [
       "Generating test split:   0%|          | 0/5427 [00:00<?, ? examples/s]"
      ]
     },
     "metadata": {},
     "output_type": "display_data"
    }
   ],
   "source": [
    "from datasets import load_dataset\n",
    "\n",
    "dataset = load_dataset(\"go_emotions\")\n"
   ]
  },
  {
   "cell_type": "markdown",
   "metadata": {
    "id": "Xcgy02k77fgI"
   },
   "source": [
    "🪄 STEP 2: Preprocess the Text (Tokenize)"
   ]
  },
  {
   "cell_type": "code",
   "execution_count": 4,
   "metadata": {
    "colab": {
     "base_uri": "https://localhost:8080/",
     "height": 241,
     "referenced_widgets": [
      "8a17102fce9d4c409af54b303da0bb79",
      "4e5c83a260224ef6932a4415317691b4",
      "89e3223de2ee4a2c8b8243c64424ef9b",
      "160dc4ada5ee4991a0bdf02a74071aee",
      "05a59009e99c4bc484549a82676aa4c4",
      "6a9d13d31ae046b39d1dc9a7ee5c210e",
      "5d2314524a4c4db189d3d5123ddc34fc",
      "6df428af272842e585e4aa1cf0fad609",
      "d688e0c5d22643b39e1200c5783fe4dc",
      "386e8a07dfe34a6cb3ec1713e11eb14a",
      "7ae68005effc4b97b68c51a183ab18f9",
      "efacef56d3944992a23d4458ed46d6fb",
      "cb99f58b57f143528bc4125825afb152",
      "07d72b9c7a1c4efd9ab094022b9f180f",
      "19d77870bf9643199b08bfe2e88e6bde",
      "eaf989c4e3f447ab93caea2fefeb0c0f",
      "750ce1a2cc3e4a9ba8938b160f3e8414",
      "066eb90c71fe4577a9b2622ccc6b585a",
      "7b9502d401db4bf39b95a982715dd5a5",
      "82923c6928e54f49b66457d23dde8af5",
      "1944c1432d4d40129b9938a76c8752c3",
      "a66e780412b24b57b153510c6f76e139",
      "c3cfe1fca9b046b48f910bd96ad1b709",
      "3b0e2c17ac904aca9d9c4275950cec15",
      "916dd318a8d04b628cb396bc609986f0",
      "9b305734c4044685aad5230d4d0ce66c",
      "e9e59294744b46499fe24227aefd4932",
      "25c8d45a67114d76adfc958a48290c26",
      "bf188e8d01434298992ab6eaa0fc9be5",
      "5449dad6083245b5bf843b4f8414c8ad",
      "d4f6828671404bfcace8a5ce606b576e",
      "db4ee3e5427d4914898e4ba20fd6c6a5",
      "541e5faac5184344b94ebb6c65a4e19c",
      "45f507bc2a894722965415d86b73c19a",
      "6c5c07ff453544cca2900df6b8d0d550",
      "f0951cf4b3ea459885313580bc992c7d",
      "e5259761af5f4381a350bb6ac3e25404",
      "3c5b1000ba1644d1ae69c30d7da2db20",
      "28c92e911ec04e54bebd19cf58f4f2e1",
      "761764a90838490587ac97e634fd7ea2",
      "b855beffefa34366bf805f9e75decae4",
      "880cbf13785f4bc0929b4911169e7a1e",
      "da76274c558f458380a9d8eeab1a707c",
      "29a3c85bbe7d44b5a613cc25d402c508",
      "f542180269554997af9ae8bce757aa0f",
      "bb17c82047924570b43e0b6dfc14c4f1",
      "0920be9e6b5f4363afeddfd57ef54728",
      "f431afd6feda4f9391992b6e061b7b38",
      "0b370abd03ec4716962fa57c6700e96f",
      "4d1ed5fa661e4b22be31c23f5457a025",
      "399aa6ce85da4032be890985f2fc3930",
      "41b38a6086d84c85b92e7e52d13cd12e",
      "110690f4f7e24b35a560e6fd3ce30f43",
      "2a6900e7b0a946fa92c3a300a978fc28",
      "77366775c4904296bb6cf46b6938f773",
      "70e88519b638471ea1d8ed7b56d5598f",
      "719dcb6e7423419e83f26ba6d4444653",
      "43f1fc5097124731ba0320241da00095",
      "01a9c652a382482ebaae10f988af1be4",
      "bb559295e4ff4ab99953104558d99e1a",
      "ddc2c182615b4b4192f2dd415ecc7108",
      "c20b501a2587467f9c111763285d2608",
      "60e08ba3aedc4abfb811a52550cf0021",
      "4e890f5c4ed54534b664729a7e454a16",
      "a555289e71bb4e3aa522721b45de97ef",
      "4653219523714225abf8e868d421d989",
      "58fbcd8205ed4a418baf3a638382a0a9",
      "6fb58e49b07947e28f046be212661ba6",
      "a3b63027c1984d6b987763b5cedad629",
      "64d53ca41d0f44d1b7c62eee3ba359d1",
      "be7021a67a9743a1892c33a2e608a696",
      "c0e06c9e3c824004bf8faa5aa02e298d",
      "0e618bce74ab429dbb98c19e378e4954",
      "786d07f3b0214bb3aad22409c2ad0c39",
      "22af492294144de79adffa6f1bfd225e",
      "ea740f2e7b774da2a9203f4b45cb589a",
      "76332fb48cd848e481add2e86fc970fd"
     ]
    },
    "id": "Cv9rtsa07O2u",
    "outputId": "48605750-a98b-4267-a38c-fa404bdd53b4"
   },
   "outputs": [
    {
     "data": {
      "application/vnd.jupyter.widget-view+json": {
       "model_id": "8a17102fce9d4c409af54b303da0bb79",
       "version_major": 2,
       "version_minor": 0
      },
      "text/plain": [
       "tokenizer_config.json:   0%|          | 0.00/48.0 [00:00<?, ?B/s]"
      ]
     },
     "metadata": {},
     "output_type": "display_data"
    },
    {
     "data": {
      "application/vnd.jupyter.widget-view+json": {
       "model_id": "efacef56d3944992a23d4458ed46d6fb",
       "version_major": 2,
       "version_minor": 0
      },
      "text/plain": [
       "vocab.txt:   0%|          | 0.00/232k [00:00<?, ?B/s]"
      ]
     },
     "metadata": {},
     "output_type": "display_data"
    },
    {
     "data": {
      "application/vnd.jupyter.widget-view+json": {
       "model_id": "c3cfe1fca9b046b48f910bd96ad1b709",
       "version_major": 2,
       "version_minor": 0
      },
      "text/plain": [
       "tokenizer.json:   0%|          | 0.00/466k [00:00<?, ?B/s]"
      ]
     },
     "metadata": {},
     "output_type": "display_data"
    },
    {
     "data": {
      "application/vnd.jupyter.widget-view+json": {
       "model_id": "45f507bc2a894722965415d86b73c19a",
       "version_major": 2,
       "version_minor": 0
      },
      "text/plain": [
       "config.json:   0%|          | 0.00/570 [00:00<?, ?B/s]"
      ]
     },
     "metadata": {},
     "output_type": "display_data"
    },
    {
     "data": {
      "application/vnd.jupyter.widget-view+json": {
       "model_id": "f542180269554997af9ae8bce757aa0f",
       "version_major": 2,
       "version_minor": 0
      },
      "text/plain": [
       "Map:   0%|          | 0/43410 [00:00<?, ? examples/s]"
      ]
     },
     "metadata": {},
     "output_type": "display_data"
    },
    {
     "data": {
      "application/vnd.jupyter.widget-view+json": {
       "model_id": "70e88519b638471ea1d8ed7b56d5598f",
       "version_major": 2,
       "version_minor": 0
      },
      "text/plain": [
       "Map:   0%|          | 0/5426 [00:00<?, ? examples/s]"
      ]
     },
     "metadata": {},
     "output_type": "display_data"
    },
    {
     "data": {
      "application/vnd.jupyter.widget-view+json": {
       "model_id": "58fbcd8205ed4a418baf3a638382a0a9",
       "version_major": 2,
       "version_minor": 0
      },
      "text/plain": [
       "Map:   0%|          | 0/5427 [00:00<?, ? examples/s]"
      ]
     },
     "metadata": {},
     "output_type": "display_data"
    }
   ],
   "source": [
    "from transformers import BertTokenizer\n",
    "\n",
    "# Load BERT tokenizer\n",
    "tokenizer = BertTokenizer.from_pretrained('bert-base-uncased')\n",
    "\n",
    "# Tokenization function\n",
    "def tokenize(batch):\n",
    "    return tokenizer(batch['text'], padding='max_length', truncation=True, max_length=128)\n",
    "\n",
    "# Apply tokenization\n",
    "encoded_dataset = dataset.map(tokenize, batched=True)\n"
   ]
  },
  {
   "cell_type": "markdown",
   "metadata": {
    "id": "uz_XTCnc7kyg"
   },
   "source": [
    "🎯 STEP 3: Prepare Labels (Multi-label encoding)"
   ]
  },
  {
   "cell_type": "code",
   "execution_count": 5,
   "metadata": {
    "id": "xrg7AVie-_DD"
   },
   "outputs": [],
   "source": [
    "encoded_dataset.reset_format()\n",
    "\n"
   ]
  },
  {
   "cell_type": "code",
   "execution_count": 6,
   "metadata": {
    "colab": {
     "base_uri": "https://localhost:8080/",
     "height": 113,
     "referenced_widgets": [
      "f913df09e81f42cfaab3c2beb35ed9a7",
      "4193907e8f3a42dd9c6811f0cf7beff8",
      "0435ef2da8e44bfbbf72f4b2f9a177d2",
      "adc0969f2a124f6b91492378a589f92b",
      "a4d087e48a9f43f7b3bfda0ce8d79f48",
      "2d7f8a33f27d46b48859e120da8b7e9d",
      "e105266380d84c058235f61736504479",
      "93ce78f9fc4346f79f3436adf1456890",
      "fb76f0ff52bc45cb978e00b63ff4de1c",
      "d6c8248ef2224a6591fc118341cafe0f",
      "ce47ef674da5486eaa1eeb47f5838b43",
      "b99de4a91649480b96f655661b6b5869",
      "514ba563c5c2472780a58d34399aa4cc",
      "7b624065a04740cd8d30e44a8d445744",
      "a346ac66380b43e5be71492e470d0041",
      "c9d1223ac2d54710aedd72f2ace0315f",
      "efa9c5a5971847f8be0161bb4fb9ab80",
      "0c7c0b2628fd4fa4be03ac8c63e197c5",
      "ce935268506d4807a8b433a41d42876c",
      "6657f2b6a0064f3f8d5029c710fa0ad1",
      "6c7aaf68c1444dd5a7a461103b7bf06b",
      "e395e6e49eaf43669c1e42e7ade7bbb6",
      "5ea3b2b639f845819174e18e51181098",
      "9efa16afd2744af190605641f1504d33",
      "7e7f4e6e4f5b4a8f862b274c196b8670",
      "922ac03568484c49b9e2b1591ebf058a",
      "cb7d687009aa4404a3ae02a68806588b",
      "712c06e351404c2f9a84fde575eeda54",
      "517e5ed9896d4749865e83aee2dde0d2",
      "3c314f117a8c4a5caeedae4447908902",
      "fbf681e59a6841908bb3fd2894b475e9",
      "fdc16f2ea920416ab220f87cb3159fce",
      "05950e90dba54ed69df5d7721a6b26a2"
     ]
    },
    "id": "vhisYo4u7VKW",
    "outputId": "c312e5c5-99a7-47da-8fec-c663e124f8f6"
   },
   "outputs": [
    {
     "data": {
      "application/vnd.jupyter.widget-view+json": {
       "model_id": "f913df09e81f42cfaab3c2beb35ed9a7",
       "version_major": 2,
       "version_minor": 0
      },
      "text/plain": [
       "Map:   0%|          | 0/43410 [00:00<?, ? examples/s]"
      ]
     },
     "metadata": {},
     "output_type": "display_data"
    },
    {
     "data": {
      "application/vnd.jupyter.widget-view+json": {
       "model_id": "b99de4a91649480b96f655661b6b5869",
       "version_major": 2,
       "version_minor": 0
      },
      "text/plain": [
       "Map:   0%|          | 0/5426 [00:00<?, ? examples/s]"
      ]
     },
     "metadata": {},
     "output_type": "display_data"
    },
    {
     "data": {
      "application/vnd.jupyter.widget-view+json": {
       "model_id": "5ea3b2b639f845819174e18e51181098",
       "version_major": 2,
       "version_minor": 0
      },
      "text/plain": [
       "Map:   0%|          | 0/5427 [00:00<?, ? examples/s]"
      ]
     },
     "metadata": {},
     "output_type": "display_data"
    }
   ],
   "source": [
    "from sklearn.preprocessing import MultiLabelBinarizer\n",
    "\n",
    "# Fit label binarizer on training labels\n",
    "mlb = MultiLabelBinarizer()\n",
    "mlb.fit(dataset['train']['labels'])\n",
    "\n",
    "def encode_labels(example):\n",
    "    example['labels'] = mlb.transform([example['labels']])[0].astype(float).tolist()\n",
    "    return example\n",
    "\n",
    "encoded_dataset = encoded_dataset.map(encode_labels)\n",
    "\n"
   ]
  },
  {
   "cell_type": "markdown",
   "metadata": {
    "id": "HXAl5uRo7ny_"
   },
   "source": [
    "🏋️ STEP 4: Format for PyTorch"
   ]
  },
  {
   "cell_type": "code",
   "execution_count": 7,
   "metadata": {
    "colab": {
     "base_uri": "https://localhost:8080/",
     "height": 113,
     "referenced_widgets": [
      "8ca14d873b9e48448ced7b2e02306e23",
      "0b78a64d8a564a38a0b934cec48c2fdf",
      "54840e8055f64e118af3e73ae573bb8b",
      "45dd29d4b221416a9fa31daf8e087c50",
      "db93ab37b5754f2ba327c1ba62880175",
      "5692f0a9ad864b26b12c4c1c54a38208",
      "8407bc1f9c7349158115b28cc7274ceb",
      "561ee54df3f34904a61409a9b7dbfaa0",
      "ad920a660bfc4408901d76dbec67b067",
      "72afa18cdd23461b9b9d90f5eb8e8973",
      "dccf41124bb347539650e59610e5e3ea",
      "f9ab4407eb8b4a1397f4c64d14afdbe4",
      "f7f3ac4c4e524933abef6c7b5c111a9f",
      "c0f891cf9b5044539100471184458b82",
      "ab02cdfb7df74fa4807324abecafdc93",
      "6b11e56a372e493bb38e1763306fb32c",
      "6825ba4f8dc1431295ab01dad83d81c0",
      "a0cbc19c390d47b4b20b46e87e1766a4",
      "795346c97ace413db3528fb44241ae62",
      "f02a514197534d83a689db40e879ef56",
      "ee5fb76704284aa698c95d8a861a6490",
      "7b4acf32b0c045b9b818c6b64928482d",
      "6d62ad86aeec449cbf5027b06515b0bb",
      "61236c78ac604468bf6cf2f94c5e7934",
      "9cab14d8c39d453db0bfb27f7cb99ee5",
      "9e11b3d887eb45b7aecd39faacce51fd",
      "034194024af344b0b8b6d9f9be7f86fc",
      "e1171e3368184f11a395b54a217f5977",
      "85f784526aba45688edac390a6076a56",
      "3c2a7eace96243ce938bc24d819aa919",
      "b5f93da7b50f42a1b2f41862f3db3b79",
      "80a36752d1884b44b147939cec8620a1",
      "28942b9d71ce48ae80feb11d5ed866d1"
     ]
    },
    "id": "fMSHzRVV7ZzM",
    "outputId": "c568d1f6-1d5d-40b9-9a24-837914f93e3c"
   },
   "outputs": [
    {
     "data": {
      "application/vnd.jupyter.widget-view+json": {
       "model_id": "8ca14d873b9e48448ced7b2e02306e23",
       "version_major": 2,
       "version_minor": 0
      },
      "text/plain": [
       "Casting the dataset:   0%|          | 0/43410 [00:00<?, ? examples/s]"
      ]
     },
     "metadata": {},
     "output_type": "display_data"
    },
    {
     "data": {
      "application/vnd.jupyter.widget-view+json": {
       "model_id": "f9ab4407eb8b4a1397f4c64d14afdbe4",
       "version_major": 2,
       "version_minor": 0
      },
      "text/plain": [
       "Casting the dataset:   0%|          | 0/5426 [00:00<?, ? examples/s]"
      ]
     },
     "metadata": {},
     "output_type": "display_data"
    },
    {
     "data": {
      "application/vnd.jupyter.widget-view+json": {
       "model_id": "6d62ad86aeec449cbf5027b06515b0bb",
       "version_major": 2,
       "version_minor": 0
      },
      "text/plain": [
       "Casting the dataset:   0%|          | 0/5427 [00:00<?, ? examples/s]"
      ]
     },
     "metadata": {},
     "output_type": "display_data"
    }
   ],
   "source": [
    "import torch\n",
    "import datasets\n",
    "\n",
    "encoded_dataset.set_format(\n",
    "    type='torch',\n",
    "    columns=['input_ids', 'attention_mask', 'labels'],\n",
    "    output_all_columns=False,\n",
    "    device='cpu'\n",
    ")\n",
    "\n",
    "# Explicitly set label dtype to float\n",
    "encoded_dataset = encoded_dataset.cast_column(\"labels\", datasets.features.Sequence(datasets.Value(\"float32\")))\n"
   ]
  },
  {
   "cell_type": "markdown",
   "metadata": {
    "id": "A0Z6hDNj7rHN"
   },
   "source": [
    "🧠 STEP 5: Load Pretrained BERT + Setup Trainer"
   ]
  },
  {
   "cell_type": "code",
   "execution_count": 8,
   "metadata": {
    "colab": {
     "base_uri": "https://localhost:8080/",
     "height": 84,
     "referenced_widgets": [
      "5865499262554158b7c64ed258fa9cd1",
      "8cd47e2901bc41c8a8c74dc0869eda26",
      "ce789696963a438b8e6ce7b276f3893d",
      "32db9f2a6bb74623aadd32ba065b1494",
      "f256902e51cc47b0a363845432fc811a",
      "699f9c214fc84dd79077c1dc5d6b2397",
      "09d50aafb04447db8218b1cd5e064d81",
      "3c5c49d078e94843a82a302944fd1ad8",
      "48e6f3007b1a498fbff1021c5e9a9829",
      "382708b50bde4a4eb3cc2f86d392da39",
      "e75314a538034d2a93a7f336e094dfbe"
     ]
    },
    "id": "tjMaLCtJ7rlu",
    "outputId": "4c26a5f2-2714-44a5-ced8-f20bbb6df082"
   },
   "outputs": [
    {
     "data": {
      "application/vnd.jupyter.widget-view+json": {
       "model_id": "5865499262554158b7c64ed258fa9cd1",
       "version_major": 2,
       "version_minor": 0
      },
      "text/plain": [
       "model.safetensors:   0%|          | 0.00/440M [00:00<?, ?B/s]"
      ]
     },
     "metadata": {},
     "output_type": "display_data"
    },
    {
     "name": "stderr",
     "output_type": "stream",
     "text": [
      "Some weights of BertForSequenceClassification were not initialized from the model checkpoint at bert-base-uncased and are newly initialized: ['classifier.bias', 'classifier.weight']\n",
      "You should probably TRAIN this model on a down-stream task to be able to use it for predictions and inference.\n"
     ]
    }
   ],
   "source": [
    "from transformers import BertForSequenceClassification\n",
    "\n",
    "# BERT model for multi-label classification (we use BCEWithLogitsLoss under the hood)\n",
    "model = BertForSequenceClassification.from_pretrained(\n",
    "    \"bert-base-uncased\",\n",
    "    num_labels=len(mlb.classes_),\n",
    "    problem_type=\"multi_label_classification\"\n",
    ")\n",
    "\n",
    "\n"
   ]
  },
  {
   "cell_type": "markdown",
   "metadata": {
    "id": "Vslsg2YG7tXg"
   },
   "source": [
    "🧪 STEP 6: Training Setup"
   ]
  },
  {
   "cell_type": "code",
   "execution_count": 9,
   "metadata": {
    "id": "bHrcWCmQ7vzp"
   },
   "outputs": [],
   "source": [
    "import torch\n",
    "from transformers import TrainingArguments, Trainer\n",
    "from sklearn.metrics import f1_score, accuracy_score\n",
    "import numpy as np\n",
    "\n",
    "def compute_metrics(p):\n",
    "    preds = (p.predictions > 0.5).astype(int)\n",
    "    labels = p.label_ids\n",
    "    return {\n",
    "        'micro_f1': f1_score(labels, preds, average='micro'),\n",
    "        'macro_f1': f1_score(labels, preds, average='macro'),\n",
    "        'accuracy': accuracy_score(labels, preds)\n",
    "    }\n",
    "\n",
    "# Set the device here in TrainingArguments\n",
    "device = \"cuda\" if torch.cuda.is_available() else \"cpu\"\n",
    "from transformers import TrainingArguments\n",
    "\n",
    "import os\n",
    "os.environ[\"WANDB_DISABLED\"] = \"true\"\n",
    "\n",
    "training_args = TrainingArguments(\n",
    "    output_dir='./results',  # output directory for model checkpoints\n",
    "    num_train_epochs=3,      # number of training epochs\n",
    "    per_device_train_batch_size=8,  # batch size for training\n",
    "    per_device_eval_batch_size=8,   # batch size for evaluation\n",
    "    logging_dir=None,  # No logging directory for WandB\n",
    "    logging_steps=500,  # How often to log the metrics\n",
    "    disable_tqdm=True,  # Disable tqdm progress bar\n",
    "    report_to=\"none\"    # Disable logging to WandB\n",
    ")\n",
    "\n",
    "\n",
    "trainer = Trainer(\n",
    "    model=model,\n",
    "    args=training_args,\n",
    "    train_dataset=encoded_dataset[\"train\"],\n",
    "    eval_dataset=encoded_dataset[\"validation\"],\n",
    "    compute_metrics=compute_metrics\n",
    ")\n"
   ]
  },
  {
   "cell_type": "markdown",
   "metadata": {
    "id": "mulQep3b7zqU"
   },
   "source": [
    "🚀 STEP 7: Train the Model"
   ]
  },
  {
   "cell_type": "code",
   "execution_count": 10,
   "metadata": {
    "id": "XRklLCzOJtUY"
   },
   "outputs": [],
   "source": [
    "import os\n",
    "os.environ[\"WANDB_DISABLED\"] = \"true\""
   ]
  },
  {
   "cell_type": "code",
   "execution_count": 11,
   "metadata": {
    "colab": {
     "base_uri": "https://localhost:8080/"
    },
    "id": "7951peEq9P6I",
    "outputId": "a9ba5e08-a0a7-41b5-9fa0-0ce790d62140"
   },
   "outputs": [
    {
     "name": "stdout",
     "output_type": "stream",
     "text": [
      "{'loss': 0.1689, 'grad_norm': 0.6769249439239502, 'learning_rate': 4.846753884896506e-05, 'epoch': 0.09213193292795283}\n",
      "{'loss': 0.1209, 'grad_norm': 0.34559500217437744, 'learning_rate': 4.693200663349917e-05, 'epoch': 0.18426386585590565}\n",
      "{'loss': 0.108, 'grad_norm': 0.3314470648765564, 'learning_rate': 4.539647441803329e-05, 'epoch': 0.2763957987838585}\n",
      "{'loss': 0.1025, 'grad_norm': 0.5194425582885742, 'learning_rate': 4.3860942202567415e-05, 'epoch': 0.3685277317118113}\n",
      "{'loss': 0.0978, 'grad_norm': 0.46612316370010376, 'learning_rate': 4.232540998710153e-05, 'epoch': 0.46065966463976415}\n",
      "{'loss': 0.0988, 'grad_norm': 0.3528313636779785, 'learning_rate': 4.078987777163565e-05, 'epoch': 0.552791597567717}\n",
      "{'loss': 0.0959, 'grad_norm': 0.4226226508617401, 'learning_rate': 3.925434555616977e-05, 'epoch': 0.6449235304956698}\n",
      "{'loss': 0.0903, 'grad_norm': 0.7070581316947937, 'learning_rate': 3.771881334070389e-05, 'epoch': 0.7370554634236226}\n",
      "{'loss': 0.0919, 'grad_norm': 0.5495593547821045, 'learning_rate': 3.6183281125238013e-05, 'epoch': 0.8291873963515755}\n",
      "{'loss': 0.0921, 'grad_norm': 0.4388439655303955, 'learning_rate': 3.4647748909772124e-05, 'epoch': 0.9213193292795283}\n",
      "{'loss': 0.0872, 'grad_norm': 0.44057950377464294, 'learning_rate': 3.311221669430625e-05, 'epoch': 1.0134512622074812}\n",
      "{'loss': 0.08, 'grad_norm': 0.6602838039398193, 'learning_rate': 3.157668447884037e-05, 'epoch': 1.105583195135434}\n",
      "{'loss': 0.0783, 'grad_norm': 0.5512025356292725, 'learning_rate': 3.0041152263374488e-05, 'epoch': 1.1977151280633866}\n",
      "{'loss': 0.0777, 'grad_norm': 0.19718913733959198, 'learning_rate': 2.8505620047908605e-05, 'epoch': 1.2898470609913395}\n",
      "{'loss': 0.079, 'grad_norm': 0.5915161967277527, 'learning_rate': 2.6970087832442726e-05, 'epoch': 1.3819789939192924}\n",
      "{'loss': 0.079, 'grad_norm': 0.4165381193161011, 'learning_rate': 2.5434555616976846e-05, 'epoch': 1.4741109268472452}\n",
      "{'loss': 0.0781, 'grad_norm': 0.6339758634567261, 'learning_rate': 2.3899023401510963e-05, 'epoch': 1.566242859775198}\n",
      "{'loss': 0.077, 'grad_norm': 0.6058622598648071, 'learning_rate': 2.2363491186045084e-05, 'epoch': 1.658374792703151}\n",
      "{'loss': 0.0752, 'grad_norm': 0.5929973721504211, 'learning_rate': 2.0827958970579204e-05, 'epoch': 1.7505067256311038}\n",
      "{'loss': 0.0743, 'grad_norm': 0.6625558733940125, 'learning_rate': 1.9292426755113324e-05, 'epoch': 1.8426386585590566}\n",
      "{'loss': 0.0762, 'grad_norm': 1.1343717575073242, 'learning_rate': 1.775689453964744e-05, 'epoch': 1.9347705914870095}\n",
      "{'loss': 0.0706, 'grad_norm': 0.8668249845504761, 'learning_rate': 1.6221362324181562e-05, 'epoch': 2.0269025244149623}\n",
      "{'loss': 0.0605, 'grad_norm': 0.5574625730514526, 'learning_rate': 1.468583010871568e-05, 'epoch': 2.119034457342915}\n",
      "{'loss': 0.0597, 'grad_norm': 0.6501497626304626, 'learning_rate': 1.3150297893249803e-05, 'epoch': 2.211166390270868}\n",
      "{'loss': 0.0592, 'grad_norm': 0.7178583741188049, 'learning_rate': 1.161476567778392e-05, 'epoch': 2.303298323198821}\n",
      "{'loss': 0.0574, 'grad_norm': 0.8125364184379578, 'learning_rate': 1.007923346231804e-05, 'epoch': 2.3954302561267733}\n",
      "{'loss': 0.0591, 'grad_norm': 0.6191237568855286, 'learning_rate': 8.543701246852159e-06, 'epoch': 2.487562189054726}\n",
      "{'loss': 0.0576, 'grad_norm': 0.5699412822723389, 'learning_rate': 7.0081690313862784e-06, 'epoch': 2.579694121982679}\n",
      "{'loss': 0.058, 'grad_norm': 0.854392945766449, 'learning_rate': 5.472636815920398e-06, 'epoch': 2.671826054910632}\n",
      "{'loss': 0.0575, 'grad_norm': 0.5686405897140503, 'learning_rate': 3.937104600454518e-06, 'epoch': 2.7639579878385847}\n",
      "{'loss': 0.0544, 'grad_norm': 0.6108364462852478, 'learning_rate': 2.401572384988637e-06, 'epoch': 2.8560899207665376}\n",
      "{'loss': 0.0545, 'grad_norm': 0.3315361440181732, 'learning_rate': 8.660401695227567e-07, 'epoch': 2.9482218536944904}\n",
      "{'train_runtime': 3573.806, 'train_samples_per_second': 36.44, 'train_steps_per_second': 4.556, 'train_loss': 0.08017076666045705, 'epoch': 3.0}\n"
     ]
    },
    {
     "data": {
      "text/plain": [
       "TrainOutput(global_step=16281, training_loss=0.08017076666045705, metrics={'train_runtime': 3573.806, 'train_samples_per_second': 36.44, 'train_steps_per_second': 4.556, 'train_loss': 0.08017076666045705, 'epoch': 3.0})"
      ]
     },
     "execution_count": 11,
     "metadata": {},
     "output_type": "execute_result"
    }
   ],
   "source": [
    "# move model to device\n",
    "model.to(device)\n",
    "\n",
    "# Train the model\n",
    "trainer.train()"
   ]
  },
  {
   "cell_type": "markdown",
   "metadata": {
    "id": "8eo3zDmT73lV"
   },
   "source": [
    "🎉 STEP 8: Evaluate the Model"
   ]
  },
  {
   "cell_type": "code",
   "execution_count": 12,
   "metadata": {
    "colab": {
     "base_uri": "https://localhost:8080/"
    },
    "id": "otdU1TCW8DKd",
    "outputId": "9a5aa133-08a8-4653-a5c1-c23a3f75e6e4"
   },
   "outputs": [
    {
     "name": "stdout",
     "output_type": "stream",
     "text": [
      "{'eval_loss': 0.0870317816734314, 'eval_micro_f1': 0.5668801808590807, 'eval_macro_f1': 0.43860606780848554, 'eval_accuracy': 0.44692222631772943, 'eval_runtime': 41.2094, 'eval_samples_per_second': 131.669, 'eval_steps_per_second': 16.477, 'epoch': 3.0}\n",
      "Evaluation results: {'eval_loss': 0.0870317816734314, 'eval_micro_f1': 0.5668801808590807, 'eval_macro_f1': 0.43860606780848554, 'eval_accuracy': 0.44692222631772943, 'eval_runtime': 41.2094, 'eval_samples_per_second': 131.669, 'eval_steps_per_second': 16.477, 'epoch': 3.0}\n",
      "Precision: 0.7128640776699029\n",
      "Recall: 0.4640543529783536\n"
     ]
    }
   ],
   "source": [
    "# Evaluate on the test set using the trainer\n",
    "results = trainer.evaluate()\n",
    "\n",
    "# Print the results\n",
    "print(\"Evaluation results:\", results)\n",
    "\n",
    "from sklearn.metrics import precision_score, recall_score\n",
    "\n",
    "# Get predictions for the test set\n",
    "predictions = trainer.predict(encoded_dataset[\"test\"])\n",
    "\n",
    "# Extract predicted labels (assuming binary classification)\n",
    "pred_labels = (predictions.predictions > 0.5).astype(int)\n",
    "\n",
    "# Extract true labels\n",
    "true_labels = predictions.label_ids\n",
    "\n",
    "precision = precision_score(true_labels, pred_labels, average='micro')\n",
    "recall = recall_score(true_labels, pred_labels, average='micro')\n",
    "\n",
    "print(f\"Precision: {precision}\")\n",
    "print(f\"Recall: {recall}\")\n",
    "\n",
    "\n"
   ]
  },
  {
   "cell_type": "markdown",
   "metadata": {
    "id": "KCRBjL4O7-aS"
   },
   "source": [
    "Save the Model"
   ]
  },
  {
   "cell_type": "code",
   "execution_count": 14,
   "metadata": {
    "colab": {
     "base_uri": "https://localhost:8080/"
    },
    "id": "U5TVQO2YtgFc",
    "outputId": "3380645d-10e5-4016-9a03-a66a1e48baa2"
   },
   "outputs": [
    {
     "name": "stdout",
     "output_type": "stream",
     "text": [
      "Mounted at /content/drive\n"
     ]
    }
   ],
   "source": [
    "from google.colab import drive\n",
    "drive.mount(\"/content/drive\")"
   ]
  },
  {
   "cell_type": "code",
   "execution_count": 15,
   "metadata": {
    "colab": {
     "base_uri": "https://localhost:8080/"
    },
    "id": "BbuQwuWzKK0i",
    "outputId": "aa15dfba-0eb3-4873-93aa-ac8f63ca1cb8"
   },
   "outputs": [
    {
     "data": {
      "text/plain": [
       "('/content/drive/MyDrive/BERT_model/tokenizer_config.json',\n",
       " '/content/drive/MyDrive/BERT_model/special_tokens_map.json',\n",
       " '/content/drive/MyDrive/BERT_model/vocab.txt',\n",
       " '/content/drive/MyDrive/BERT_model/added_tokens.json')"
      ]
     },
     "execution_count": 15,
     "metadata": {},
     "output_type": "execute_result"
    }
   ],
   "source": [
    "model.save_pretrained(\"/content/drive/MyDrive/BERT_model\")\n",
    "tokenizer.save_pretrained(\"/content/drive/MyDrive/BERT_model\")"
   ]
  }
 ],
 "metadata": {
  "accelerator": "GPU",
  "colab": {
   "gpuType": "T4",
   "provenance": []
  },
  "kernelspec": {
   "display_name": "Python 3",
   "name": "python3"
  },
  "language_info": {
   "name": "python"
  }
 },
 "nbformat": 4,
 "nbformat_minor": 0
}
