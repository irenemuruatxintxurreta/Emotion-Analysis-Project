{
 "cells": [
  {
   "cell_type": "code",
   "execution_count": null,
   "metadata": {
    "colab": {
     "base_uri": "https://localhost:8080/"
    },
    "id": "yQFtmVTp7Hau",
    "outputId": "10890eff-67dc-405c-b9fb-1ded9df85354"
   },
   "outputs": [
    {
     "name": "stdout",
     "output_type": "stream",
     "text": [
      "Requirement already satisfied: transformers in /usr/local/lib/python3.11/dist-packages (4.51.3)\n",
      "Collecting datasets\n",
      "  Downloading datasets-3.6.0-py3-none-any.whl.metadata (19 kB)\n",
      "Requirement already satisfied: scikit-learn in /usr/local/lib/python3.11/dist-packages (1.6.1)\n",
      "Requirement already satisfied: filelock in /usr/local/lib/python3.11/dist-packages (from transformers) (3.18.0)\n",
      "Requirement already satisfied: huggingface-hub<1.0,>=0.30.0 in /usr/local/lib/python3.11/dist-packages (from transformers) (0.30.2)\n",
      "Requirement already satisfied: numpy>=1.17 in /usr/local/lib/python3.11/dist-packages (from transformers) (2.0.2)\n",
      "Requirement already satisfied: packaging>=20.0 in /usr/local/lib/python3.11/dist-packages (from transformers) (24.2)\n",
      "Requirement already satisfied: pyyaml>=5.1 in /usr/local/lib/python3.11/dist-packages (from transformers) (6.0.2)\n",
      "Requirement already satisfied: regex!=2019.12.17 in /usr/local/lib/python3.11/dist-packages (from transformers) (2024.11.6)\n",
      "Requirement already satisfied: requests in /usr/local/lib/python3.11/dist-packages (from transformers) (2.32.3)\n",
      "Requirement already satisfied: tokenizers<0.22,>=0.21 in /usr/local/lib/python3.11/dist-packages (from transformers) (0.21.1)\n",
      "Requirement already satisfied: safetensors>=0.4.3 in /usr/local/lib/python3.11/dist-packages (from transformers) (0.5.3)\n",
      "Requirement already satisfied: tqdm>=4.27 in /usr/local/lib/python3.11/dist-packages (from transformers) (4.67.1)\n",
      "Requirement already satisfied: pyarrow>=15.0.0 in /usr/local/lib/python3.11/dist-packages (from datasets) (18.1.0)\n",
      "Collecting dill<0.3.9,>=0.3.0 (from datasets)\n",
      "  Downloading dill-0.3.8-py3-none-any.whl.metadata (10 kB)\n",
      "Requirement already satisfied: pandas in /usr/local/lib/python3.11/dist-packages (from datasets) (2.2.2)\n",
      "Collecting xxhash (from datasets)\n",
      "  Downloading xxhash-3.5.0-cp311-cp311-manylinux_2_17_x86_64.manylinux2014_x86_64.whl.metadata (12 kB)\n",
      "Collecting multiprocess<0.70.17 (from datasets)\n",
      "  Downloading multiprocess-0.70.16-py311-none-any.whl.metadata (7.2 kB)\n",
      "Collecting fsspec<=2025.3.0,>=2023.1.0 (from fsspec[http]<=2025.3.0,>=2023.1.0->datasets)\n",
      "  Downloading fsspec-2025.3.0-py3-none-any.whl.metadata (11 kB)\n",
      "Requirement already satisfied: scipy>=1.6.0 in /usr/local/lib/python3.11/dist-packages (from scikit-learn) (1.15.2)\n",
      "Requirement already satisfied: joblib>=1.2.0 in /usr/local/lib/python3.11/dist-packages (from scikit-learn) (1.4.2)\n",
      "Requirement already satisfied: threadpoolctl>=3.1.0 in /usr/local/lib/python3.11/dist-packages (from scikit-learn) (3.6.0)\n",
      "Requirement already satisfied: aiohttp!=4.0.0a0,!=4.0.0a1 in /usr/local/lib/python3.11/dist-packages (from fsspec[http]<=2025.3.0,>=2023.1.0->datasets) (3.11.15)\n",
      "Requirement already satisfied: typing-extensions>=3.7.4.3 in /usr/local/lib/python3.11/dist-packages (from huggingface-hub<1.0,>=0.30.0->transformers) (4.13.2)\n",
      "Requirement already satisfied: charset-normalizer<4,>=2 in /usr/local/lib/python3.11/dist-packages (from requests->transformers) (3.4.1)\n",
      "Requirement already satisfied: idna<4,>=2.5 in /usr/local/lib/python3.11/dist-packages (from requests->transformers) (3.10)\n",
      "Requirement already satisfied: urllib3<3,>=1.21.1 in /usr/local/lib/python3.11/dist-packages (from requests->transformers) (2.4.0)\n",
      "Requirement already satisfied: certifi>=2017.4.17 in /usr/local/lib/python3.11/dist-packages (from requests->transformers) (2025.4.26)\n",
      "Requirement already satisfied: python-dateutil>=2.8.2 in /usr/local/lib/python3.11/dist-packages (from pandas->datasets) (2.9.0.post0)\n",
      "Requirement already satisfied: pytz>=2020.1 in /usr/local/lib/python3.11/dist-packages (from pandas->datasets) (2025.2)\n",
      "Requirement already satisfied: tzdata>=2022.7 in /usr/local/lib/python3.11/dist-packages (from pandas->datasets) (2025.2)\n",
      "Requirement already satisfied: aiohappyeyeballs>=2.3.0 in /usr/local/lib/python3.11/dist-packages (from aiohttp!=4.0.0a0,!=4.0.0a1->fsspec[http]<=2025.3.0,>=2023.1.0->datasets) (2.6.1)\n",
      "Requirement already satisfied: aiosignal>=1.1.2 in /usr/local/lib/python3.11/dist-packages (from aiohttp!=4.0.0a0,!=4.0.0a1->fsspec[http]<=2025.3.0,>=2023.1.0->datasets) (1.3.2)\n",
      "Requirement already satisfied: attrs>=17.3.0 in /usr/local/lib/python3.11/dist-packages (from aiohttp!=4.0.0a0,!=4.0.0a1->fsspec[http]<=2025.3.0,>=2023.1.0->datasets) (25.3.0)\n",
      "Requirement already satisfied: frozenlist>=1.1.1 in /usr/local/lib/python3.11/dist-packages (from aiohttp!=4.0.0a0,!=4.0.0a1->fsspec[http]<=2025.3.0,>=2023.1.0->datasets) (1.6.0)\n",
      "Requirement already satisfied: multidict<7.0,>=4.5 in /usr/local/lib/python3.11/dist-packages (from aiohttp!=4.0.0a0,!=4.0.0a1->fsspec[http]<=2025.3.0,>=2023.1.0->datasets) (6.4.3)\n",
      "Requirement already satisfied: propcache>=0.2.0 in /usr/local/lib/python3.11/dist-packages (from aiohttp!=4.0.0a0,!=4.0.0a1->fsspec[http]<=2025.3.0,>=2023.1.0->datasets) (0.3.1)\n",
      "Requirement already satisfied: yarl<2.0,>=1.17.0 in /usr/local/lib/python3.11/dist-packages (from aiohttp!=4.0.0a0,!=4.0.0a1->fsspec[http]<=2025.3.0,>=2023.1.0->datasets) (1.20.0)\n",
      "Requirement already satisfied: six>=1.5 in /usr/local/lib/python3.11/dist-packages (from python-dateutil>=2.8.2->pandas->datasets) (1.17.0)\n",
      "Downloading datasets-3.6.0-py3-none-any.whl (491 kB)\n",
      "\u001b[2K   \u001b[90m━━━━━━━━━━━━━━━━━━━━━━━━━━━━━━━━━━━━━━━━\u001b[0m \u001b[32m491.5/491.5 kB\u001b[0m \u001b[31m9.9 MB/s\u001b[0m eta \u001b[36m0:00:00\u001b[0m\n",
      "\u001b[?25hDownloading dill-0.3.8-py3-none-any.whl (116 kB)\n",
      "\u001b[2K   \u001b[90m━━━━━━━━━━━━━━━━━━━━━━━━━━━━━━━━━━━━━━━━\u001b[0m \u001b[32m116.3/116.3 kB\u001b[0m \u001b[31m6.2 MB/s\u001b[0m eta \u001b[36m0:00:00\u001b[0m\n",
      "\u001b[?25hDownloading fsspec-2025.3.0-py3-none-any.whl (193 kB)\n",
      "\u001b[2K   \u001b[90m━━━━━━━━━━━━━━━━━━━━━━━━━━━━━━━━━━━━━━━━\u001b[0m \u001b[32m193.6/193.6 kB\u001b[0m \u001b[31m12.6 MB/s\u001b[0m eta \u001b[36m0:00:00\u001b[0m\n",
      "\u001b[?25hDownloading multiprocess-0.70.16-py311-none-any.whl (143 kB)\n",
      "\u001b[2K   \u001b[90m━━━━━━━━━━━━━━━━━━━━━━━━━━━━━━━━━━━━━━━━\u001b[0m \u001b[32m143.5/143.5 kB\u001b[0m \u001b[31m11.6 MB/s\u001b[0m eta \u001b[36m0:00:00\u001b[0m\n",
      "\u001b[?25hDownloading xxhash-3.5.0-cp311-cp311-manylinux_2_17_x86_64.manylinux2014_x86_64.whl (194 kB)\n",
      "\u001b[2K   \u001b[90m━━━━━━━━━━━━━━━━━━━━━━━━━━━━━━━━━━━━━━━━\u001b[0m \u001b[32m194.8/194.8 kB\u001b[0m \u001b[31m17.6 MB/s\u001b[0m eta \u001b[36m0:00:00\u001b[0m\n",
      "\u001b[?25hInstalling collected packages: xxhash, fsspec, dill, multiprocess, datasets\n",
      "  Attempting uninstall: fsspec\n",
      "    Found existing installation: fsspec 2025.3.2\n",
      "    Uninstalling fsspec-2025.3.2:\n",
      "      Successfully uninstalled fsspec-2025.3.2\n",
      "\u001b[31mERROR: pip's dependency resolver does not currently take into account all the packages that are installed. This behaviour is the source of the following dependency conflicts.\n",
      "torch 2.6.0+cu124 requires nvidia-cublas-cu12==12.4.5.8; platform_system == \"Linux\" and platform_machine == \"x86_64\", but you have nvidia-cublas-cu12 12.5.3.2 which is incompatible.\n",
      "torch 2.6.0+cu124 requires nvidia-cuda-cupti-cu12==12.4.127; platform_system == \"Linux\" and platform_machine == \"x86_64\", but you have nvidia-cuda-cupti-cu12 12.5.82 which is incompatible.\n",
      "torch 2.6.0+cu124 requires nvidia-cuda-nvrtc-cu12==12.4.127; platform_system == \"Linux\" and platform_machine == \"x86_64\", but you have nvidia-cuda-nvrtc-cu12 12.5.82 which is incompatible.\n",
      "torch 2.6.0+cu124 requires nvidia-cuda-runtime-cu12==12.4.127; platform_system == \"Linux\" and platform_machine == \"x86_64\", but you have nvidia-cuda-runtime-cu12 12.5.82 which is incompatible.\n",
      "torch 2.6.0+cu124 requires nvidia-cudnn-cu12==9.1.0.70; platform_system == \"Linux\" and platform_machine == \"x86_64\", but you have nvidia-cudnn-cu12 9.3.0.75 which is incompatible.\n",
      "torch 2.6.0+cu124 requires nvidia-cufft-cu12==11.2.1.3; platform_system == \"Linux\" and platform_machine == \"x86_64\", but you have nvidia-cufft-cu12 11.2.3.61 which is incompatible.\n",
      "torch 2.6.0+cu124 requires nvidia-curand-cu12==10.3.5.147; platform_system == \"Linux\" and platform_machine == \"x86_64\", but you have nvidia-curand-cu12 10.3.6.82 which is incompatible.\n",
      "torch 2.6.0+cu124 requires nvidia-cusolver-cu12==11.6.1.9; platform_system == \"Linux\" and platform_machine == \"x86_64\", but you have nvidia-cusolver-cu12 11.6.3.83 which is incompatible.\n",
      "torch 2.6.0+cu124 requires nvidia-cusparse-cu12==12.3.1.170; platform_system == \"Linux\" and platform_machine == \"x86_64\", but you have nvidia-cusparse-cu12 12.5.1.3 which is incompatible.\n",
      "torch 2.6.0+cu124 requires nvidia-nvjitlink-cu12==12.4.127; platform_system == \"Linux\" and platform_machine == \"x86_64\", but you have nvidia-nvjitlink-cu12 12.5.82 which is incompatible.\n",
      "gcsfs 2025.3.2 requires fsspec==2025.3.2, but you have fsspec 2025.3.0 which is incompatible.\u001b[0m\u001b[31m\n",
      "\u001b[0mSuccessfully installed datasets-3.6.0 dill-0.3.8 fsspec-2025.3.0 multiprocess-0.70.16 xxhash-3.5.0\n"
     ]
    }
   ],
   "source": [
    "!pip install transformers datasets scikit-learn\n"
   ]
  },
  {
   "cell_type": "markdown",
   "metadata": {
    "id": "TMM6HreE7bAj"
   },
   "source": [
    "🧠 STEP 1: Load the Dataset"
   ]
  },
  {
   "cell_type": "code",
   "execution_count": null,
   "metadata": {
    "colab": {
     "base_uri": "https://localhost:8080/",
     "height": 345,
     "referenced_widgets": [
      "e7a9936a8d774d04a82f6497bddfcc74",
      "78f69451a0ef4d10b4d380ba35a904dc",
      "92dbf6caa4004122bcefbf0647619660",
      "abd47ac989924982a272649a39510495",
      "eeb4b0e667a645f290ccaed18a2ca393",
      "1c46e2f280554a2e82d31d8e41ec0e8c",
      "0e6ea14067b1447ea7806bea1c0fe5b0",
      "ff71f7b2f6684816b9f61a9a43374cc3",
      "ea5a67cdaf4b4afd8167f61c660f4109",
      "d13abfaf588f467d854fbbcab021c7ef",
      "55a32c9c0f424707935b08842937a702",
      "14b28fe0ef234793a6f04fee0fb1b2e1",
      "ad160b447a6f414684c821d5f7e7ab69",
      "9f249196e95147b2ac7ab845065ca2b0",
      "5f651ea642a64156a0eeef1ffe230719",
      "2e54bac1cc2245389847573846c1c8e4",
      "0a5bbfb84a7c4d3eb1de8a010a2e6982",
      "b1e3af3d19b44bd5bc17ed497b1ba960",
      "7cdc899bb5e8447abd181c492e1682c8",
      "367a99c97bcb47b6b9346c9442d46d49",
      "73b72ee52e8841de9e933d1e8adb0a34",
      "030c548c12664b96a7ba841c0ad52fc4",
      "df2f20d10f13497aa50f9f53d430fb2e",
      "baa9927bf16244b8a998927bc6fd2b0c",
      "a799e380c7914658bbdcc4159f783b1f",
      "bff0f002190c45e7a1d1750ad19e16fc",
      "81293b159b614e06907da744a25b68cb",
      "c8f9e6bfb7e54f04ab87db8b15ebc4fc",
      "09471e904bf64269be30a1f014c94ee9",
      "2bf58563ff0d417caf6f7d21c4232eef",
      "be8a82837b424578970d4b33784aaac9",
      "7f724ac43de8414fb8e600959ab872fc",
      "7ff665284129454f8d5426ed2e25c07b",
      "d652fbe732484b748189d5fe1afa8ae0",
      "12b8ef10cb334cba8582d981dda3b2e1",
      "337f362bb32141f59fa9a4eff2547350",
      "4fc34169dc6a4f99904ee352485d5dd3",
      "360c759ce60944bea87377a57824ebe9",
      "608e847a28124f399af824b06708493b",
      "61e9a95c9b5849a6994feace29255f22",
      "29f04b890ea44856a40850c2637d3651",
      "9fe226f8c03c42b9ba3026e7ff06f991",
      "73a5647064c342c38cde821e2cba9ce4",
      "9fc1a37d680a4820a0cc07340fa9cba8",
      "01e58008884d4c4d8f81bd45ce2016c4",
      "a36d70800ca0486a81c048fae4b62dd8",
      "36eb60a22061451ca8a4662e695df39b",
      "61f4a17d28b34059b4b071dd148da3eb",
      "95de75409f7c45b8a117da581a7dd4c2",
      "3e9cc69647984597a2eeacbcd8e4ed57",
      "72192259b6854ed3b78ba6ad2bb17ede",
      "2b94c53eefde4384b4266fa86bef9a47",
      "3bab64f7c04c452491691b178b0d6c40",
      "4032808d5641423daf6680d74eae031b",
      "cd6ec844f5644f77aadabd2608c3e26b",
      "65a3e29f82c24240853e7403834a26b3",
      "91affac97d9a434cb49e8923bbe0e35f",
      "67c8a4cb6cd845e5b271c2c80831466c",
      "ee82e68edbf7410f8609d0f9038ef737",
      "09216251beb9413cbb61023dced83072",
      "c9061bb247714531bc924fac3ccaa78c",
      "3464e3ae51954477972e504b6b01b5aa",
      "143f7c05f0c144dc825f4271519940e0",
      "7d8a2c45dea3401787de5b20fc0a278f",
      "b3094d82d17e45aba80a0f9684bad2a0",
      "42cf5637a79144bbb1fc5c22640462e4",
      "a2531df9f04a49e1842339fb66646fb7",
      "6eb204238d5e4684b7442916b31e5633",
      "ca47121a5ba645e6a0e60d94403b5c9f",
      "04cd427da53c46fc87a78f2b59645b29",
      "bdb8d07813794207b05f6d4792f9a156",
      "669683f356494e96acc5618406d79154",
      "921fd719c65449daa65e01e79d08a56d",
      "487ff3cff35c4a8c9fd5b0ceb8f0ab64",
      "e6628e6c710d4cde91f9e0e9806c001a",
      "6b9642c17e874f71a0c79858a7b7d016",
      "d466782d589442aeb105c04e4ea667d7"
     ]
    },
    "id": "qevO-je47Klz",
    "outputId": "ee5042f6-b8ae-4c56-e8df-d5bd76ff6e2c"
   },
   "outputs": [
    {
     "name": "stderr",
     "output_type": "stream",
     "text": [
      "/usr/local/lib/python3.11/dist-packages/huggingface_hub/utils/_auth.py:94: UserWarning: \n",
      "The secret `HF_TOKEN` does not exist in your Colab secrets.\n",
      "To authenticate with the Hugging Face Hub, create a token in your settings tab (https://huggingface.co/settings/tokens), set it as secret in your Google Colab and restart your session.\n",
      "You will be able to reuse this secret in all of your notebooks.\n",
      "Please note that authentication is recommended but still optional to access public models or datasets.\n",
      "  warnings.warn(\n"
     ]
    },
    {
     "data": {
      "application/vnd.jupyter.widget-view+json": {
       "model_id": "e7a9936a8d774d04a82f6497bddfcc74",
       "version_major": 2,
       "version_minor": 0
      },
      "text/plain": [
       "README.md:   0%|          | 0.00/9.40k [00:00<?, ?B/s]"
      ]
     },
     "metadata": {},
     "output_type": "display_data"
    },
    {
     "data": {
      "application/vnd.jupyter.widget-view+json": {
       "model_id": "14b28fe0ef234793a6f04fee0fb1b2e1",
       "version_major": 2,
       "version_minor": 0
      },
      "text/plain": [
       "train-00000-of-00001.parquet:   0%|          | 0.00/2.77M [00:00<?, ?B/s]"
      ]
     },
     "metadata": {},
     "output_type": "display_data"
    },
    {
     "data": {
      "application/vnd.jupyter.widget-view+json": {
       "model_id": "df2f20d10f13497aa50f9f53d430fb2e",
       "version_major": 2,
       "version_minor": 0
      },
      "text/plain": [
       "validation-00000-of-00001.parquet:   0%|          | 0.00/350k [00:00<?, ?B/s]"
      ]
     },
     "metadata": {},
     "output_type": "display_data"
    },
    {
     "data": {
      "application/vnd.jupyter.widget-view+json": {
       "model_id": "d652fbe732484b748189d5fe1afa8ae0",
       "version_major": 2,
       "version_minor": 0
      },
      "text/plain": [
       "test-00000-of-00001.parquet:   0%|          | 0.00/347k [00:00<?, ?B/s]"
      ]
     },
     "metadata": {},
     "output_type": "display_data"
    },
    {
     "data": {
      "application/vnd.jupyter.widget-view+json": {
       "model_id": "01e58008884d4c4d8f81bd45ce2016c4",
       "version_major": 2,
       "version_minor": 0
      },
      "text/plain": [
       "Generating train split:   0%|          | 0/43410 [00:00<?, ? examples/s]"
      ]
     },
     "metadata": {},
     "output_type": "display_data"
    },
    {
     "data": {
      "application/vnd.jupyter.widget-view+json": {
       "model_id": "65a3e29f82c24240853e7403834a26b3",
       "version_major": 2,
       "version_minor": 0
      },
      "text/plain": [
       "Generating validation split:   0%|          | 0/5426 [00:00<?, ? examples/s]"
      ]
     },
     "metadata": {},
     "output_type": "display_data"
    },
    {
     "data": {
      "application/vnd.jupyter.widget-view+json": {
       "model_id": "a2531df9f04a49e1842339fb66646fb7",
       "version_major": 2,
       "version_minor": 0
      },
      "text/plain": [
       "Generating test split:   0%|          | 0/5427 [00:00<?, ? examples/s]"
      ]
     },
     "metadata": {},
     "output_type": "display_data"
    }
   ],
   "source": [
    "from datasets import load_dataset\n",
    "\n",
    "dataset = load_dataset(\"go_emotions\")\n"
   ]
  },
  {
   "cell_type": "markdown",
   "metadata": {
    "id": "Xcgy02k77fgI"
   },
   "source": [
    "🪄 STEP 2: Preprocess the Text (Tokenize)"
   ]
  },
  {
   "cell_type": "code",
   "execution_count": null,
   "metadata": {
    "colab": {
     "base_uri": "https://localhost:8080/",
     "height": 241,
     "referenced_widgets": [
      "d63349aa199a43f7b4e0d33b9c94da27",
      "1270578ad44a4a25b59bec677f17cba4",
      "429357e4d56f4967b5d0bc95a3239819",
      "5a67835700644638b5f104771ae52ff5",
      "9231c02de2ab4d55885cabb1ff9a89fa",
      "e0afbadaf1e643e0bd489084f7d31d6b",
      "b22cbe77cbd5472d9668df5a55070fcb",
      "dfe6750624164841881e60c88b8dfe34",
      "204b8707eb9b43bb9b0c2c915ca002fb",
      "a93ad149a2f64d9f86753d0b211b26f5",
      "4caafaaad61849d0a6bc654e9a892683",
      "94805cef39bb4df18efd36b398171e2c",
      "a2757d7a9ff04b7ebd2428bc6fd8ee27",
      "891274c7fa994795ac094e6bd6a48470",
      "6747a011f8ca415690a232ca7cc8d0b6",
      "93749a43f10c4ffaae6cd3f3181e7225",
      "421df2d51915498fac37845b7827b911",
      "b8a96bab351b4f37826a273bdd507810",
      "13a63fee83574d5f861e13d41210f031",
      "7db913da967547ea94084303f107d0a4",
      "cf321771ce00490e913da30dab1bada7",
      "b16b6e6e6ad94a95b899228aa68bce19",
      "eff48f7c2fad4b3fa2098ce4f436b1a7",
      "983cf428f5cb49a7ac5eeadc431436e2",
      "7158f439f0724a168b31819a01c2b5ab",
      "5d688fd0666843649980e3b4f5fc10d0",
      "71d4de3ac8584ccc930366b00fb625e7",
      "e78990d39d194c3ca9fc0474b673b38c",
      "c9b3805ed29b4c3fa997e9c23f1f6eb7",
      "1e9daa75d34a4563bd87b30096b79450",
      "0a0665087b2844b88849ad7b59077e56",
      "87b8874c64b44333bb52bf087e1e2b00",
      "3742ffff2904456fb59139c6fccb7411",
      "c4385e09b78e4155b9a2c802a2c557da",
      "6e0dff617ccd42e0b77abce71f97240b",
      "a1b9793c701148a587505c5fb33c5f72",
      "841ad69656d64daa9785a88d34eaa964",
      "99bb1d9f7bfb41f4963a8dd25e9c51ad",
      "b8bfeba66282432da8f747b812740c3a",
      "d916a4ef5ab248348aed3cf73aaf8399",
      "2c8317e9ce3f4805bc2f361c803fd325",
      "60f390b2b02f47e9adcf798124b06185",
      "dd6f21032fd748aa9d588650aa966815",
      "b2be57e474ed4a34853ddffe35f898de",
      "4024b645948c446dbda0a53031d07266",
      "3ce6d15b2e384484b807145885df07a9",
      "7cc5b7772c9e4a8a85b8eecb31f32c50",
      "006806969b4c4f7397ec5c69e46358e8",
      "202e832a3a16465099dda392e0fd1bdc",
      "c13f0a2d510b4e46b29c6d048a8f6ac4",
      "75c685fbd4f64e06b2f4b2e7cd958917",
      "316a2b3d6c2a43349f0a76ec2b1bdbdc",
      "1cbe04928e634c0abd937e3b5fbd1382",
      "af590d3174004d078b74ed7413a1ec4b",
      "74af25d23ce2427a8d4ca4e4fc4df181",
      "bca49ce1410c42a3b29aed8a56dbeb92",
      "332ef3a58df845a1a37d5641154a225e",
      "a634cabc58264cc798be44e30bf64553",
      "409bb805c2e04ab69630222f53cb6b05",
      "88456426fb8846298f40a5b4d7aefcb6",
      "e53de399bdc142ed81654e0b6ebab1e6",
      "5292622fbf0d4e44a40c5eba90146ff3",
      "a5088f52e4f54a738289d800e5672e89",
      "f8b01592be654c3d8c923db03fef6f0e",
      "a407b75e73f24f6dbe9ba5e1b9101215",
      "d06d2f9a4d35431290a66d9d08b17c50",
      "ff7a8eecffce4b1ba082768c3963121b",
      "1bd390f5186c4c62856ab3f0d96a2f8a",
      "27464c308e32466b88282697870646cb",
      "1bee0746833445218a16e1154a5667e4",
      "57bdc8f0319c421b88b233f45ba3d0f9",
      "f835285aa6b44d37ac4623150e72aa9b",
      "d7ba5accbe1247389eafc7abf8e0d15b",
      "5bd4b15cf7c34e9bb2e003837a8b71f7",
      "0d3905677ee54915ace2b2c157b2b518",
      "ee0b2c300c2c40228f6a2daf70b6fa13",
      "d8d46682aa9745b58267a67b0be9fd58"
     ]
    },
    "id": "Cv9rtsa07O2u",
    "outputId": "35095bae-f4ac-46da-f7cc-229c124a6da4"
   },
   "outputs": [
    {
     "data": {
      "application/vnd.jupyter.widget-view+json": {
       "model_id": "d63349aa199a43f7b4e0d33b9c94da27",
       "version_major": 2,
       "version_minor": 0
      },
      "text/plain": [
       "tokenizer_config.json:   0%|          | 0.00/48.0 [00:00<?, ?B/s]"
      ]
     },
     "metadata": {},
     "output_type": "display_data"
    },
    {
     "data": {
      "application/vnd.jupyter.widget-view+json": {
       "model_id": "94805cef39bb4df18efd36b398171e2c",
       "version_major": 2,
       "version_minor": 0
      },
      "text/plain": [
       "vocab.txt:   0%|          | 0.00/232k [00:00<?, ?B/s]"
      ]
     },
     "metadata": {},
     "output_type": "display_data"
    },
    {
     "data": {
      "application/vnd.jupyter.widget-view+json": {
       "model_id": "eff48f7c2fad4b3fa2098ce4f436b1a7",
       "version_major": 2,
       "version_minor": 0
      },
      "text/plain": [
       "tokenizer.json:   0%|          | 0.00/466k [00:00<?, ?B/s]"
      ]
     },
     "metadata": {},
     "output_type": "display_data"
    },
    {
     "data": {
      "application/vnd.jupyter.widget-view+json": {
       "model_id": "c4385e09b78e4155b9a2c802a2c557da",
       "version_major": 2,
       "version_minor": 0
      },
      "text/plain": [
       "config.json:   0%|          | 0.00/570 [00:00<?, ?B/s]"
      ]
     },
     "metadata": {},
     "output_type": "display_data"
    },
    {
     "data": {
      "application/vnd.jupyter.widget-view+json": {
       "model_id": "4024b645948c446dbda0a53031d07266",
       "version_major": 2,
       "version_minor": 0
      },
      "text/plain": [
       "Map:   0%|          | 0/43410 [00:00<?, ? examples/s]"
      ]
     },
     "metadata": {},
     "output_type": "display_data"
    },
    {
     "data": {
      "application/vnd.jupyter.widget-view+json": {
       "model_id": "bca49ce1410c42a3b29aed8a56dbeb92",
       "version_major": 2,
       "version_minor": 0
      },
      "text/plain": [
       "Map:   0%|          | 0/5426 [00:00<?, ? examples/s]"
      ]
     },
     "metadata": {},
     "output_type": "display_data"
    },
    {
     "data": {
      "application/vnd.jupyter.widget-view+json": {
       "model_id": "ff7a8eecffce4b1ba082768c3963121b",
       "version_major": 2,
       "version_minor": 0
      },
      "text/plain": [
       "Map:   0%|          | 0/5427 [00:00<?, ? examples/s]"
      ]
     },
     "metadata": {},
     "output_type": "display_data"
    }
   ],
   "source": [
    "from transformers import BertTokenizer\n",
    "\n",
    "# Load BERT tokenizer\n",
    "tokenizer = BertTokenizer.from_pretrained('bert-base-uncased')\n",
    "\n",
    "# Tokenization function\n",
    "def tokenize(batch):\n",
    "    return tokenizer(batch['text'], padding='max_length', truncation=True, max_length=128)\n",
    "\n",
    "# Apply tokenization\n",
    "encoded_dataset = dataset.map(tokenize, batched=True)\n"
   ]
  },
  {
   "cell_type": "markdown",
   "metadata": {
    "id": "uz_XTCnc7kyg"
   },
   "source": [
    "🎯 STEP 3: Prepare Labels (Multi-label encoding)"
   ]
  },
  {
   "cell_type": "code",
   "execution_count": null,
   "metadata": {
    "id": "xrg7AVie-_DD"
   },
   "outputs": [],
   "source": [
    "encoded_dataset.reset_format()\n",
    "\n"
   ]
  },
  {
   "cell_type": "code",
   "execution_count": null,
   "metadata": {
    "colab": {
     "base_uri": "https://localhost:8080/",
     "height": 113,
     "referenced_widgets": [
      "f41dc5f90d7d4141b0192cb7cf31b184",
      "9fa529aa43d041868eee750a0ac8334a",
      "2179ca0c1c27428187be58e9ff6ed944",
      "e156a10d204a4337a9e6d09d7c61cfa0",
      "10e22658e32a4cc38fe1c4c82372f9ae",
      "b7d167b4fe61406c8a4334ef5c74b925",
      "bfa1908d42b44f3abd65f8ae02894c3c",
      "5b4f71beb2d24484ab95e3d50d6b957c",
      "fea1f4426e41448197af9ff078447eba",
      "0fe415621f014283befdfed687420578",
      "382ff3c9084b49ef971414d87fc306a5",
      "706ea693df454fc2b9921c19b86c32df",
      "718a2a71068d41e8ac6dedb001d68974",
      "b929b6d3219646c887073bda3c35d035",
      "8971382d7e544f809c3b09762aed6ac9",
      "6dfccee632944637b9d685718d2c4335",
      "6b6443ac221d46bc958d953e4605b6c2",
      "804f6ad86e29403cb4384293481319a4",
      "b7ae6b08a66a44fd9edd8dd29d30106a",
      "b5620670d9bd4863a5b3d3f95de79f2e",
      "6d94ad353cff40318fb82088ddb93c46",
      "e130f548e97e459ebc88163a6e138bb9",
      "2f4b7cc8a9a64e3a8e8fb1fdad265815",
      "97d8ddb2fc5442aa86cac88f87431225",
      "6634837af12a45efbf77c487288199ec",
      "ddf2a6b2801841f68a94355218d73dd1",
      "d33e51fe7294492ca1a403bdaed8ea51",
      "6a28b61a55d04fb5af91da7ff240cd11",
      "247078cfbdfe437cb66b27d10515ed30",
      "ca63db1e44854ae58b3e07efa405a031",
      "881ab63331744dab88fc878521b74ff2",
      "8283dbfdd4f145a1b717777287815a6b",
      "6eff97b622d14ad8ae8f47acf42da416"
     ]
    },
    "id": "vhisYo4u7VKW",
    "outputId": "68c0e825-c5a6-4769-8da9-501cfd331359"
   },
   "outputs": [
    {
     "data": {
      "application/vnd.jupyter.widget-view+json": {
       "model_id": "f41dc5f90d7d4141b0192cb7cf31b184",
       "version_major": 2,
       "version_minor": 0
      },
      "text/plain": [
       "Map:   0%|          | 0/43410 [00:00<?, ? examples/s]"
      ]
     },
     "metadata": {},
     "output_type": "display_data"
    },
    {
     "data": {
      "application/vnd.jupyter.widget-view+json": {
       "model_id": "706ea693df454fc2b9921c19b86c32df",
       "version_major": 2,
       "version_minor": 0
      },
      "text/plain": [
       "Map:   0%|          | 0/5426 [00:00<?, ? examples/s]"
      ]
     },
     "metadata": {},
     "output_type": "display_data"
    },
    {
     "data": {
      "application/vnd.jupyter.widget-view+json": {
       "model_id": "2f4b7cc8a9a64e3a8e8fb1fdad265815",
       "version_major": 2,
       "version_minor": 0
      },
      "text/plain": [
       "Map:   0%|          | 0/5427 [00:00<?, ? examples/s]"
      ]
     },
     "metadata": {},
     "output_type": "display_data"
    }
   ],
   "source": [
    "from sklearn.preprocessing import MultiLabelBinarizer\n",
    "\n",
    "# Fit label binarizer on training labels\n",
    "mlb = MultiLabelBinarizer()\n",
    "mlb.fit(dataset['train']['labels'])\n",
    "\n",
    "def encode_labels(example):\n",
    "    example['labels'] = mlb.transform([example['labels']])[0].astype(float).tolist()\n",
    "    return example\n",
    "\n",
    "encoded_dataset = encoded_dataset.map(encode_labels)\n",
    "\n"
   ]
  },
  {
   "cell_type": "markdown",
   "metadata": {
    "id": "HXAl5uRo7ny_"
   },
   "source": [
    "🏋️ STEP 4: Format for PyTorch"
   ]
  },
  {
   "cell_type": "code",
   "execution_count": null,
   "metadata": {
    "colab": {
     "base_uri": "https://localhost:8080/",
     "height": 113,
     "referenced_widgets": [
      "aeebd4cda83242d9940354e95c7bdca9",
      "60f56ac65fa54f7e901da9776db37ba1",
      "394027be775b435eb2bf0eee64e1552f",
      "e382b2374cc24ee2945cf802c3e1b3b5",
      "df0911ba4f1841588e082b62581c92eb",
      "9e90af3925034288acc66c7fc5dece90",
      "d7aa273a6c4341d4996c5197c78b19c1",
      "b2d6e06a1aba4fd98756b709736ac45b",
      "9afcc87b18cc497dad21c8fc893b3534",
      "fe29d143949c407ea3ab11bb0bb6e8af",
      "99a612fa90be489e88e49114e83c218c",
      "99ef84dcb492470cbfb6b4a3943712ff",
      "0b7bb210871240c3bfcdb078cbe2c66c",
      "7a63f94da8a7495fbf5f2049f8355373",
      "24eb7575b2ab4b05bea2ff0927d10cd4",
      "05ff85210eff4aaa86d4b8e00bb5852b",
      "3b9f7a516a3049229ef4041e4356a489",
      "423a66523e5a458e8dd5ba2437ad192f",
      "a362b77284bb48c5a35996e810014c7b",
      "f41c229ff0484a1b85939d2edd29a76d",
      "092fa55d6f6d4d14b358e9ae4ab7d842",
      "2ea2bcc02edc446fb60e5a596089a055",
      "db7ea1b7c2504b7682e5beda4228d18e",
      "cbf49e92cab04e97816d2d60aeaeeeb9",
      "69ff81f8d73041bbb4ee71b9d77d659d",
      "979e276cf6624c189753499fcca3a135",
      "d7e03e8338a1432ab15251516005b625",
      "4292b182583a484abc7023c5d90023b6",
      "cc4a403865e34999b0e0f199f43dfaae",
      "8709ec6fe5ff41778217719c86a30f96",
      "5f850e34c00e47078a5389a4eab89082",
      "d9455dca817f4d749984bfe84e453021",
      "26c7acd94bf948e18e7c2661a91eda40"
     ]
    },
    "id": "fMSHzRVV7ZzM",
    "outputId": "c5aea543-66db-4503-cf30-718bb26277b5"
   },
   "outputs": [
    {
     "data": {
      "application/vnd.jupyter.widget-view+json": {
       "model_id": "aeebd4cda83242d9940354e95c7bdca9",
       "version_major": 2,
       "version_minor": 0
      },
      "text/plain": [
       "Casting the dataset:   0%|          | 0/43410 [00:00<?, ? examples/s]"
      ]
     },
     "metadata": {},
     "output_type": "display_data"
    },
    {
     "data": {
      "application/vnd.jupyter.widget-view+json": {
       "model_id": "99ef84dcb492470cbfb6b4a3943712ff",
       "version_major": 2,
       "version_minor": 0
      },
      "text/plain": [
       "Casting the dataset:   0%|          | 0/5426 [00:00<?, ? examples/s]"
      ]
     },
     "metadata": {},
     "output_type": "display_data"
    },
    {
     "data": {
      "application/vnd.jupyter.widget-view+json": {
       "model_id": "db7ea1b7c2504b7682e5beda4228d18e",
       "version_major": 2,
       "version_minor": 0
      },
      "text/plain": [
       "Casting the dataset:   0%|          | 0/5427 [00:00<?, ? examples/s]"
      ]
     },
     "metadata": {},
     "output_type": "display_data"
    }
   ],
   "source": [
    "import torch\n",
    "import datasets\n",
    "\n",
    "encoded_dataset.set_format(\n",
    "    type='torch',\n",
    "    columns=['input_ids', 'attention_mask', 'labels'],\n",
    "    output_all_columns=False,\n",
    "    device='cpu'\n",
    ")\n",
    "\n",
    "# Explicitly set label dtype to float\n",
    "encoded_dataset = encoded_dataset.cast_column(\"labels\", datasets.features.Sequence(datasets.Value(\"float32\")))\n"
   ]
  },
  {
   "cell_type": "markdown",
   "metadata": {
    "id": "A0Z6hDNj7rHN"
   },
   "source": [
    "🧠 STEP 5: Load Pretrained BERT + Setup Trainer"
   ]
  },
  {
   "cell_type": "code",
   "execution_count": null,
   "metadata": {
    "colab": {
     "base_uri": "https://localhost:8080/",
     "height": 118,
     "referenced_widgets": [
      "df2368f97c494df3a9967e69a8659b88",
      "8cd434ecd70043f4a1f4d25215923471",
      "bf39706337ea4ec499f59c828dfd2d1e",
      "68618bb1173346cda027587ff6fad4ad",
      "38a206cf01a1432db2d15ae47dab6b7d",
      "046ffe0770534c2cac9c614047ee50f1",
      "fff45fc578f14a46973d5eef73de6952",
      "4c0661f04b7a4c279df725d231942bee",
      "92658344b5ac416aa6f8a9de6acefd11",
      "bf6119ed89f34738841db03c0fa92fef",
      "e86c613879d3417ea103979f57c02d17"
     ]
    },
    "id": "tjMaLCtJ7rlu",
    "outputId": "2f5231bb-5477-4d8b-a8c3-8d13a6fe1ba1"
   },
   "outputs": [
    {
     "name": "stderr",
     "output_type": "stream",
     "text": [
      "Xet Storage is enabled for this repo, but the 'hf_xet' package is not installed. Falling back to regular HTTP download. For better performance, install the package with: `pip install huggingface_hub[hf_xet]` or `pip install hf_xet`\n",
      "WARNING:huggingface_hub.file_download:Xet Storage is enabled for this repo, but the 'hf_xet' package is not installed. Falling back to regular HTTP download. For better performance, install the package with: `pip install huggingface_hub[hf_xet]` or `pip install hf_xet`\n"
     ]
    },
    {
     "data": {
      "application/vnd.jupyter.widget-view+json": {
       "model_id": "df2368f97c494df3a9967e69a8659b88",
       "version_major": 2,
       "version_minor": 0
      },
      "text/plain": [
       "model.safetensors:   0%|          | 0.00/440M [00:00<?, ?B/s]"
      ]
     },
     "metadata": {},
     "output_type": "display_data"
    },
    {
     "name": "stderr",
     "output_type": "stream",
     "text": [
      "Some weights of BertForSequenceClassification were not initialized from the model checkpoint at bert-base-uncased and are newly initialized: ['classifier.bias', 'classifier.weight']\n",
      "You should probably TRAIN this model on a down-stream task to be able to use it for predictions and inference.\n"
     ]
    }
   ],
   "source": [
    "from transformers import BertForSequenceClassification\n",
    "\n",
    "# BERT model for multi-label classification (we use BCEWithLogitsLoss under the hood)\n",
    "model = BertForSequenceClassification.from_pretrained(\n",
    "    \"bert-base-uncased\",\n",
    "    num_labels=len(mlb.classes_),\n",
    "    problem_type=\"multi_label_classification\"\n",
    ")\n",
    "\n",
    "\n"
   ]
  },
  {
   "cell_type": "markdown",
   "metadata": {
    "id": "Vslsg2YG7tXg"
   },
   "source": [
    "🧪 STEP 6: Training Setup"
   ]
  },
  {
   "cell_type": "code",
   "execution_count": null,
   "metadata": {
    "id": "bHrcWCmQ7vzp"
   },
   "outputs": [],
   "source": [
    "import torch\n",
    "from transformers import TrainingArguments, Trainer\n",
    "from sklearn.metrics import f1_score, accuracy_score\n",
    "import numpy as np\n",
    "\n",
    "def compute_metrics(p):\n",
    "    preds = (p.predictions > 0.5).astype(int)\n",
    "    labels = p.label_ids\n",
    "    return {\n",
    "        'micro_f1': f1_score(labels, preds, average='micro'),\n",
    "        'macro_f1': f1_score(labels, preds, average='macro'),\n",
    "        'accuracy': accuracy_score(labels, preds)\n",
    "    }\n",
    "\n",
    "# Set the device here in TrainingArguments\n",
    "device = \"cuda\" if torch.cuda.is_available() else \"cpu\"\n",
    "from transformers import TrainingArguments\n",
    "\n",
    "import os\n",
    "os.environ[\"WANDB_DISABLED\"] = \"true\"\n",
    "\n",
    "training_args = TrainingArguments(\n",
    "    output_dir='./results',  # output directory for model checkpoints\n",
    "    num_train_epochs=3,      # number of training epochs\n",
    "    per_device_train_batch_size=8,  # batch size for training\n",
    "    per_device_eval_batch_size=8,   # batch size for evaluation\n",
    "    logging_dir=None,  # No logging directory for WandB\n",
    "    logging_steps=500,  # How often to log the metrics\n",
    "    disable_tqdm=True,  # Disable tqdm progress bar\n",
    "    report_to=\"none\"    # Disable logging to WandB\n",
    ")\n",
    "\n",
    "\n",
    "trainer = Trainer(\n",
    "    model=model,\n",
    "    args=training_args,\n",
    "    train_dataset=encoded_dataset[\"train\"],\n",
    "    eval_dataset=encoded_dataset[\"validation\"],\n",
    "    compute_metrics=compute_metrics\n",
    ")\n"
   ]
  },
  {
   "cell_type": "markdown",
   "metadata": {
    "id": "mulQep3b7zqU"
   },
   "source": [
    "🚀 STEP 7: Train the Model"
   ]
  },
  {
   "cell_type": "code",
   "execution_count": null,
   "metadata": {
    "id": "XRklLCzOJtUY"
   },
   "outputs": [],
   "source": [
    "import os\n",
    "os.environ[\"WANDB_DISABLED\"] = \"true\""
   ]
  },
  {
   "cell_type": "code",
   "execution_count": null,
   "metadata": {
    "colab": {
     "base_uri": "https://localhost:8080/"
    },
    "id": "7951peEq9P6I",
    "outputId": "7f4d1214-a547-454b-e131-2af231f07c87"
   },
   "outputs": [
    {
     "name": "stdout",
     "output_type": "stream",
     "text": [
      "{'loss': 0.0822, 'grad_norm': 0.5140990018844604, 'learning_rate': 4.846753884896506e-05, 'epoch': 0.09213193292795283}\n",
      "{'loss': 0.1017, 'grad_norm': 0.575324535369873, 'learning_rate': 4.693200663349917e-05, 'epoch': 0.18426386585590565}\n",
      "{'loss': 0.0962, 'grad_norm': 0.32435399293899536, 'learning_rate': 4.539647441803329e-05, 'epoch': 0.2763957987838585}\n",
      "{'loss': 0.0941, 'grad_norm': 0.6303132772445679, 'learning_rate': 4.3860942202567415e-05, 'epoch': 0.3685277317118113}\n",
      "{'loss': 0.092, 'grad_norm': 0.8066749572753906, 'learning_rate': 4.232540998710153e-05, 'epoch': 0.46065966463976415}\n",
      "{'loss': 0.0938, 'grad_norm': 0.5111821889877319, 'learning_rate': 4.078987777163565e-05, 'epoch': 0.552791597567717}\n",
      "{'loss': 0.0922, 'grad_norm': 0.5107714533805847, 'learning_rate': 3.925434555616977e-05, 'epoch': 0.6449235304956698}\n",
      "{'loss': 0.0867, 'grad_norm': 0.5344728231430054, 'learning_rate': 3.771881334070389e-05, 'epoch': 0.7370554634236226}\n",
      "{'loss': 0.0886, 'grad_norm': 0.1983618587255478, 'learning_rate': 3.6183281125238013e-05, 'epoch': 0.8291873963515755}\n",
      "{'loss': 0.0891, 'grad_norm': 0.4085488021373749, 'learning_rate': 3.4647748909772124e-05, 'epoch': 0.9213193292795283}\n",
      "{'loss': 0.0846, 'grad_norm': 0.3838448226451874, 'learning_rate': 3.311221669430625e-05, 'epoch': 1.0134512622074812}\n",
      "{'loss': 0.0747, 'grad_norm': 0.4567693769931793, 'learning_rate': 3.157668447884037e-05, 'epoch': 1.105583195135434}\n",
      "{'loss': 0.0736, 'grad_norm': 0.5759249925613403, 'learning_rate': 3.0041152263374488e-05, 'epoch': 1.1977151280633866}\n",
      "{'loss': 0.0725, 'grad_norm': 0.21378226578235626, 'learning_rate': 2.8505620047908605e-05, 'epoch': 1.2898470609913395}\n",
      "{'loss': 0.0736, 'grad_norm': 0.6198437213897705, 'learning_rate': 2.6970087832442726e-05, 'epoch': 1.3819789939192924}\n",
      "{'loss': 0.0738, 'grad_norm': 0.46778565645217896, 'learning_rate': 2.5434555616976846e-05, 'epoch': 1.4741109268472452}\n",
      "{'loss': 0.0733, 'grad_norm': 0.9918872117996216, 'learning_rate': 2.3899023401510963e-05, 'epoch': 1.566242859775198}\n",
      "{'loss': 0.0724, 'grad_norm': 0.5490785837173462, 'learning_rate': 2.2363491186045084e-05, 'epoch': 1.658374792703151}\n",
      "{'loss': 0.0712, 'grad_norm': 0.5477094054222107, 'learning_rate': 2.0827958970579204e-05, 'epoch': 1.7505067256311038}\n",
      "{'loss': 0.0701, 'grad_norm': 0.739664614200592, 'learning_rate': 1.9292426755113324e-05, 'epoch': 1.8426386585590566}\n",
      "{'loss': 0.0716, 'grad_norm': 0.8937258720397949, 'learning_rate': 1.775689453964744e-05, 'epoch': 1.9347705914870095}\n",
      "{'loss': 0.0652, 'grad_norm': 0.6670541763305664, 'learning_rate': 1.6221362324181562e-05, 'epoch': 2.0269025244149623}\n",
      "{'loss': 0.0539, 'grad_norm': 1.0363702774047852, 'learning_rate': 1.468583010871568e-05, 'epoch': 2.119034457342915}\n",
      "{'loss': 0.0535, 'grad_norm': 0.8487206101417542, 'learning_rate': 1.3150297893249803e-05, 'epoch': 2.211166390270868}\n",
      "{'loss': 0.0528, 'grad_norm': 0.6385588645935059, 'learning_rate': 1.161476567778392e-05, 'epoch': 2.303298323198821}\n",
      "{'loss': 0.0508, 'grad_norm': 0.8666813969612122, 'learning_rate': 1.007923346231804e-05, 'epoch': 2.3954302561267733}\n",
      "{'loss': 0.0525, 'grad_norm': 0.5429333448410034, 'learning_rate': 8.543701246852159e-06, 'epoch': 2.487562189054726}\n",
      "{'loss': 0.0515, 'grad_norm': 0.5334277153015137, 'learning_rate': 7.0081690313862784e-06, 'epoch': 2.579694121982679}\n",
      "{'loss': 0.0521, 'grad_norm': 0.7484487295150757, 'learning_rate': 5.472636815920398e-06, 'epoch': 2.671826054910632}\n",
      "{'loss': 0.0524, 'grad_norm': 0.9368647933006287, 'learning_rate': 3.937104600454518e-06, 'epoch': 2.7639579878385847}\n",
      "{'loss': 0.0481, 'grad_norm': 1.0453948974609375, 'learning_rate': 2.401572384988637e-06, 'epoch': 2.8560899207665376}\n",
      "{'loss': 0.0481, 'grad_norm': 0.3718835413455963, 'learning_rate': 8.660401695227567e-07, 'epoch': 2.9482218536944904}\n",
      "{'train_runtime': 4593.9464, 'train_samples_per_second': 28.348, 'train_steps_per_second': 3.544, 'train_loss': 0.07182215179889473, 'epoch': 3.0}\n"
     ]
    },
    {
     "data": {
      "text/plain": [
       "TrainOutput(global_step=16281, training_loss=0.07182215179889473, metrics={'train_runtime': 4593.9464, 'train_samples_per_second': 28.348, 'train_steps_per_second': 3.544, 'train_loss': 0.07182215179889473, 'epoch': 3.0})"
      ]
     },
     "execution_count": 18,
     "metadata": {},
     "output_type": "execute_result"
    }
   ],
   "source": [
    "# move model to device\n",
    "model.to(device)\n",
    "\n",
    "# Train the model\n",
    "trainer.train()"
   ]
  },
  {
   "cell_type": "markdown",
   "metadata": {
    "id": "8eo3zDmT73lV"
   },
   "source": [
    "🎉 STEP 8: Evaluate the Model"
   ]
  },
  {
   "cell_type": "code",
   "execution_count": null,
   "metadata": {
    "colab": {
     "base_uri": "https://localhost:8080/"
    },
    "id": "otdU1TCW8DKd",
    "outputId": "e7b30934-c8ac-4a85-a67b-1b2a44c5887e"
   },
   "outputs": [
    {
     "name": "stdout",
     "output_type": "stream",
     "text": [
      "{'eval_loss': 0.0900765210390091, 'eval_micro_f1': 0.5654459920671525, 'eval_macro_f1': 0.4463160707461039, 'eval_accuracy': 0.452082565425728, 'eval_runtime': 42.5827, 'eval_samples_per_second': 127.422, 'eval_steps_per_second': 15.945, 'epoch': 3.0}\n",
      "Evaluation results: {'eval_loss': 0.0900765210390091, 'eval_micro_f1': 0.5654459920671525, 'eval_macro_f1': 0.4463160707461039, 'eval_accuracy': 0.452082565425728, 'eval_runtime': 42.5827, 'eval_samples_per_second': 127.422, 'eval_steps_per_second': 15.945, 'epoch': 3.0}\n",
      "Precision: 0.7002077082852527\n",
      "Recall: 0.4793806288513193\n"
     ]
    }
   ],
   "source": [
    "# Evaluate on the test set using the trainer\n",
    "results = trainer.evaluate()\n",
    "\n",
    "# Print the results\n",
    "print(\"Evaluation results:\", results)\n",
    "\n",
    "from sklearn.metrics import precision_score, recall_score\n",
    "\n",
    "# Get predictions for the test set\n",
    "predictions = trainer.predict(encoded_dataset[\"test\"])\n",
    "\n",
    "# Extract predicted labels (assuming binary classification)\n",
    "pred_labels = (predictions.predictions > 0.5).astype(int)\n",
    "\n",
    "# Extract true labels\n",
    "true_labels = predictions.label_ids\n",
    "\n",
    "precision = precision_score(true_labels, pred_labels, average='micro')\n",
    "recall = recall_score(true_labels, pred_labels, average='micro')\n",
    "\n",
    "print(f\"Precision: {precision}\")\n",
    "print(f\"Recall: {recall}\")\n",
    "\n",
    "\n"
   ]
  },
  {
   "cell_type": "markdown",
   "metadata": {
    "id": "KCRBjL4O7-aS"
   },
   "source": [
    "Save the Model"
   ]
  },
  {
   "cell_type": "code",
   "execution_count": null,
   "metadata": {
    "colab": {
     "base_uri": "https://localhost:8080/"
    },
    "id": "uMtLHn1XKEsk",
    "outputId": "3ea75c3e-1478-4702-f5d6-997db0f4d8ad"
   },
   "outputs": [
    {
     "name": "stdout",
     "output_type": "stream",
     "text": [
      "Mounted at /content/drive\n"
     ]
    }
   ],
   "source": [
    "from google.colab import drive\n",
    "drive.mount(\"/content/drive\")\n"
   ]
  },
  {
   "cell_type": "code",
   "execution_count": null,
   "metadata": {
    "colab": {
     "base_uri": "https://localhost:8080/"
    },
    "id": "BbuQwuWzKK0i",
    "outputId": "5b3683b7-4abb-4e52-bbfc-8d30457eb23a"
   },
   "outputs": [
    {
     "data": {
      "text/plain": [
       "('/content/drive/MyDrive/BERT_model/tokenizer_config.json',\n",
       " '/content/drive/MyDrive/BERT_model/special_tokens_map.json',\n",
       " '/content/drive/MyDrive/BERT_model/vocab.txt',\n",
       " '/content/drive/MyDrive/BERT_model/added_tokens.json')"
      ]
     },
     "execution_count": 21,
     "metadata": {},
     "output_type": "execute_result"
    }
   ],
   "source": [
    "model.save_pretrained(\"/content/drive/MyDrive/BERT_model\")\n",
    "tokenizer.save_pretrained(\"/content/drive/MyDrive/BERT_model\")"
   ]
  }
 ],
 "metadata": {
  "accelerator": "GPU",
  "colab": {
   "gpuType": "T4",
   "provenance": []
  },
  "kernelspec": {
   "display_name": "Python 3",
   "name": "python3"
  },
  "language_info": {
   "name": "python"
  }
 },
 "nbformat": 4,
 "nbformat_minor": 0
}
