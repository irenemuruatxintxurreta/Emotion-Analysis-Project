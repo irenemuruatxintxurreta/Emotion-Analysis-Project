{
 "cells": [
  {
   "cell_type": "markdown",
   "metadata": {
    "id": "TMM6HreE7bAj"
   },
   "source": [
    "🧠 STEP 1: Load the Dataset"
   ]
  },
  {
   "cell_type": "code",
   "execution_count": 1,
   "metadata": {
    "colab": {
     "base_uri": "https://localhost:8080/"
    },
    "id": "FZo-IyXc7qEY",
    "outputId": "5a6af6ea-ffb7-4ff0-8e1d-0441a7bb7233"
   },
   "outputs": [
    {
     "name": "stdout",
     "output_type": "stream",
     "text": [
      "Requirement already satisfied: datasets in /usr/local/lib/python3.11/dist-packages (2.14.4)\n",
      "Requirement already satisfied: numpy>=1.17 in /usr/local/lib/python3.11/dist-packages (from datasets) (2.0.2)\n",
      "Requirement already satisfied: pyarrow>=8.0.0 in /usr/local/lib/python3.11/dist-packages (from datasets) (18.1.0)\n",
      "Requirement already satisfied: dill<0.3.8,>=0.3.0 in /usr/local/lib/python3.11/dist-packages (from datasets) (0.3.7)\n",
      "Requirement already satisfied: pandas in /usr/local/lib/python3.11/dist-packages (from datasets) (2.2.2)\n",
      "Requirement already satisfied: requests>=2.19.0 in /usr/local/lib/python3.11/dist-packages (from datasets) (2.32.3)\n",
      "Requirement already satisfied: tqdm>=4.62.1 in /usr/local/lib/python3.11/dist-packages (from datasets) (4.67.1)\n",
      "Requirement already satisfied: xxhash in /usr/local/lib/python3.11/dist-packages (from datasets) (3.5.0)\n",
      "Requirement already satisfied: multiprocess in /usr/local/lib/python3.11/dist-packages (from datasets) (0.70.15)\n",
      "Requirement already satisfied: fsspec>=2021.11.1 in /usr/local/lib/python3.11/dist-packages (from fsspec[http]>=2021.11.1->datasets) (2025.3.2)\n",
      "Requirement already satisfied: aiohttp in /usr/local/lib/python3.11/dist-packages (from datasets) (3.11.15)\n",
      "Requirement already satisfied: huggingface-hub<1.0.0,>=0.14.0 in /usr/local/lib/python3.11/dist-packages (from datasets) (0.31.1)\n",
      "Requirement already satisfied: packaging in /usr/local/lib/python3.11/dist-packages (from datasets) (24.2)\n",
      "Requirement already satisfied: pyyaml>=5.1 in /usr/local/lib/python3.11/dist-packages (from datasets) (6.0.2)\n",
      "Requirement already satisfied: aiohappyeyeballs>=2.3.0 in /usr/local/lib/python3.11/dist-packages (from aiohttp->datasets) (2.6.1)\n",
      "Requirement already satisfied: aiosignal>=1.1.2 in /usr/local/lib/python3.11/dist-packages (from aiohttp->datasets) (1.3.2)\n",
      "Requirement already satisfied: attrs>=17.3.0 in /usr/local/lib/python3.11/dist-packages (from aiohttp->datasets) (25.3.0)\n",
      "Requirement already satisfied: frozenlist>=1.1.1 in /usr/local/lib/python3.11/dist-packages (from aiohttp->datasets) (1.6.0)\n",
      "Requirement already satisfied: multidict<7.0,>=4.5 in /usr/local/lib/python3.11/dist-packages (from aiohttp->datasets) (6.4.3)\n",
      "Requirement already satisfied: propcache>=0.2.0 in /usr/local/lib/python3.11/dist-packages (from aiohttp->datasets) (0.3.1)\n",
      "Requirement already satisfied: yarl<2.0,>=1.17.0 in /usr/local/lib/python3.11/dist-packages (from aiohttp->datasets) (1.20.0)\n",
      "Requirement already satisfied: filelock in /usr/local/lib/python3.11/dist-packages (from huggingface-hub<1.0.0,>=0.14.0->datasets) (3.18.0)\n",
      "Requirement already satisfied: typing-extensions>=3.7.4.3 in /usr/local/lib/python3.11/dist-packages (from huggingface-hub<1.0.0,>=0.14.0->datasets) (4.13.2)\n",
      "Requirement already satisfied: hf-xet<2.0.0,>=1.1.0 in /usr/local/lib/python3.11/dist-packages (from huggingface-hub<1.0.0,>=0.14.0->datasets) (1.1.0)\n",
      "Requirement already satisfied: charset-normalizer<4,>=2 in /usr/local/lib/python3.11/dist-packages (from requests>=2.19.0->datasets) (3.4.2)\n",
      "Requirement already satisfied: idna<4,>=2.5 in /usr/local/lib/python3.11/dist-packages (from requests>=2.19.0->datasets) (3.10)\n",
      "Requirement already satisfied: urllib3<3,>=1.21.1 in /usr/local/lib/python3.11/dist-packages (from requests>=2.19.0->datasets) (2.4.0)\n",
      "Requirement already satisfied: certifi>=2017.4.17 in /usr/local/lib/python3.11/dist-packages (from requests>=2.19.0->datasets) (2025.4.26)\n",
      "Requirement already satisfied: python-dateutil>=2.8.2 in /usr/local/lib/python3.11/dist-packages (from pandas->datasets) (2.9.0.post0)\n",
      "Requirement already satisfied: pytz>=2020.1 in /usr/local/lib/python3.11/dist-packages (from pandas->datasets) (2025.2)\n",
      "Requirement already satisfied: tzdata>=2022.7 in /usr/local/lib/python3.11/dist-packages (from pandas->datasets) (2025.2)\n",
      "Requirement already satisfied: six>=1.5 in /usr/local/lib/python3.11/dist-packages (from python-dateutil>=2.8.2->pandas->datasets) (1.17.0)\n"
     ]
    }
   ],
   "source": [
    "!pip install datasets"
   ]
  },
  {
   "cell_type": "code",
   "execution_count": 2,
   "metadata": {
    "colab": {
     "base_uri": "https://localhost:8080/"
    },
    "id": "9RAmgw5Tlc76",
    "outputId": "460bee90-2809-492b-fce6-f304b98f35b3"
   },
   "outputs": [
    {
     "name": "stdout",
     "output_type": "stream",
     "text": [
      "Requirement already satisfied: fsspec in /usr/local/lib/python3.11/dist-packages (2025.3.2)\n",
      "Requirement already satisfied: datasets in /usr/local/lib/python3.11/dist-packages (2.14.4)\n",
      "Collecting datasets\n",
      "  Downloading datasets-3.6.0-py3-none-any.whl.metadata (19 kB)\n",
      "Requirement already satisfied: filelock in /usr/local/lib/python3.11/dist-packages (from datasets) (3.18.0)\n",
      "Requirement already satisfied: numpy>=1.17 in /usr/local/lib/python3.11/dist-packages (from datasets) (2.0.2)\n",
      "Requirement already satisfied: pyarrow>=15.0.0 in /usr/local/lib/python3.11/dist-packages (from datasets) (18.1.0)\n",
      "Requirement already satisfied: dill<0.3.9,>=0.3.0 in /usr/local/lib/python3.11/dist-packages (from datasets) (0.3.7)\n",
      "Requirement already satisfied: pandas in /usr/local/lib/python3.11/dist-packages (from datasets) (2.2.2)\n",
      "Requirement already satisfied: requests>=2.32.2 in /usr/local/lib/python3.11/dist-packages (from datasets) (2.32.3)\n",
      "Requirement already satisfied: tqdm>=4.66.3 in /usr/local/lib/python3.11/dist-packages (from datasets) (4.67.1)\n",
      "Requirement already satisfied: xxhash in /usr/local/lib/python3.11/dist-packages (from datasets) (3.5.0)\n",
      "Requirement already satisfied: multiprocess<0.70.17 in /usr/local/lib/python3.11/dist-packages (from datasets) (0.70.15)\n",
      "Collecting fsspec\n",
      "  Downloading fsspec-2025.3.0-py3-none-any.whl.metadata (11 kB)\n",
      "Requirement already satisfied: huggingface-hub>=0.24.0 in /usr/local/lib/python3.11/dist-packages (from datasets) (0.31.1)\n",
      "Requirement already satisfied: packaging in /usr/local/lib/python3.11/dist-packages (from datasets) (24.2)\n",
      "Requirement already satisfied: pyyaml>=5.1 in /usr/local/lib/python3.11/dist-packages (from datasets) (6.0.2)\n",
      "Requirement already satisfied: aiohttp!=4.0.0a0,!=4.0.0a1 in /usr/local/lib/python3.11/dist-packages (from fsspec[http]<=2025.3.0,>=2023.1.0->datasets) (3.11.15)\n",
      "Requirement already satisfied: typing-extensions>=3.7.4.3 in /usr/local/lib/python3.11/dist-packages (from huggingface-hub>=0.24.0->datasets) (4.13.2)\n",
      "Requirement already satisfied: hf-xet<2.0.0,>=1.1.0 in /usr/local/lib/python3.11/dist-packages (from huggingface-hub>=0.24.0->datasets) (1.1.0)\n",
      "Requirement already satisfied: charset-normalizer<4,>=2 in /usr/local/lib/python3.11/dist-packages (from requests>=2.32.2->datasets) (3.4.2)\n",
      "Requirement already satisfied: idna<4,>=2.5 in /usr/local/lib/python3.11/dist-packages (from requests>=2.32.2->datasets) (3.10)\n",
      "Requirement already satisfied: urllib3<3,>=1.21.1 in /usr/local/lib/python3.11/dist-packages (from requests>=2.32.2->datasets) (2.4.0)\n",
      "Requirement already satisfied: certifi>=2017.4.17 in /usr/local/lib/python3.11/dist-packages (from requests>=2.32.2->datasets) (2025.4.26)\n",
      "Requirement already satisfied: python-dateutil>=2.8.2 in /usr/local/lib/python3.11/dist-packages (from pandas->datasets) (2.9.0.post0)\n",
      "Requirement already satisfied: pytz>=2020.1 in /usr/local/lib/python3.11/dist-packages (from pandas->datasets) (2025.2)\n",
      "Requirement already satisfied: tzdata>=2022.7 in /usr/local/lib/python3.11/dist-packages (from pandas->datasets) (2025.2)\n",
      "Requirement already satisfied: aiohappyeyeballs>=2.3.0 in /usr/local/lib/python3.11/dist-packages (from aiohttp!=4.0.0a0,!=4.0.0a1->fsspec[http]<=2025.3.0,>=2023.1.0->datasets) (2.6.1)\n",
      "Requirement already satisfied: aiosignal>=1.1.2 in /usr/local/lib/python3.11/dist-packages (from aiohttp!=4.0.0a0,!=4.0.0a1->fsspec[http]<=2025.3.0,>=2023.1.0->datasets) (1.3.2)\n",
      "Requirement already satisfied: attrs>=17.3.0 in /usr/local/lib/python3.11/dist-packages (from aiohttp!=4.0.0a0,!=4.0.0a1->fsspec[http]<=2025.3.0,>=2023.1.0->datasets) (25.3.0)\n",
      "Requirement already satisfied: frozenlist>=1.1.1 in /usr/local/lib/python3.11/dist-packages (from aiohttp!=4.0.0a0,!=4.0.0a1->fsspec[http]<=2025.3.0,>=2023.1.0->datasets) (1.6.0)\n",
      "Requirement already satisfied: multidict<7.0,>=4.5 in /usr/local/lib/python3.11/dist-packages (from aiohttp!=4.0.0a0,!=4.0.0a1->fsspec[http]<=2025.3.0,>=2023.1.0->datasets) (6.4.3)\n",
      "Requirement already satisfied: propcache>=0.2.0 in /usr/local/lib/python3.11/dist-packages (from aiohttp!=4.0.0a0,!=4.0.0a1->fsspec[http]<=2025.3.0,>=2023.1.0->datasets) (0.3.1)\n",
      "Requirement already satisfied: yarl<2.0,>=1.17.0 in /usr/local/lib/python3.11/dist-packages (from aiohttp!=4.0.0a0,!=4.0.0a1->fsspec[http]<=2025.3.0,>=2023.1.0->datasets) (1.20.0)\n",
      "Requirement already satisfied: six>=1.5 in /usr/local/lib/python3.11/dist-packages (from python-dateutil>=2.8.2->pandas->datasets) (1.17.0)\n",
      "Downloading datasets-3.6.0-py3-none-any.whl (491 kB)\n",
      "\u001b[2K   \u001b[90m━━━━━━━━━━━━━━━━━━━━━━━━━━━━━━━━━━━━━━━━\u001b[0m \u001b[32m491.5/491.5 kB\u001b[0m \u001b[31m12.8 MB/s\u001b[0m eta \u001b[36m0:00:00\u001b[0m\n",
      "\u001b[?25hDownloading fsspec-2025.3.0-py3-none-any.whl (193 kB)\n",
      "\u001b[2K   \u001b[90m━━━━━━━━━━━━━━━━━━━━━━━━━━━━━━━━━━━━━━━━\u001b[0m \u001b[32m193.6/193.6 kB\u001b[0m \u001b[31m16.8 MB/s\u001b[0m eta \u001b[36m0:00:00\u001b[0m\n",
      "\u001b[?25hInstalling collected packages: fsspec, datasets\n",
      "  Attempting uninstall: fsspec\n",
      "    Found existing installation: fsspec 2025.3.2\n",
      "    Uninstalling fsspec-2025.3.2:\n",
      "      Successfully uninstalled fsspec-2025.3.2\n",
      "  Attempting uninstall: datasets\n",
      "    Found existing installation: datasets 2.14.4\n",
      "    Uninstalling datasets-2.14.4:\n",
      "      Successfully uninstalled datasets-2.14.4\n",
      "\u001b[31mERROR: pip's dependency resolver does not currently take into account all the packages that are installed. This behaviour is the source of the following dependency conflicts.\n",
      "torch 2.6.0+cu124 requires nvidia-cublas-cu12==12.4.5.8; platform_system == \"Linux\" and platform_machine == \"x86_64\", but you have nvidia-cublas-cu12 12.5.3.2 which is incompatible.\n",
      "torch 2.6.0+cu124 requires nvidia-cuda-cupti-cu12==12.4.127; platform_system == \"Linux\" and platform_machine == \"x86_64\", but you have nvidia-cuda-cupti-cu12 12.5.82 which is incompatible.\n",
      "torch 2.6.0+cu124 requires nvidia-cuda-nvrtc-cu12==12.4.127; platform_system == \"Linux\" and platform_machine == \"x86_64\", but you have nvidia-cuda-nvrtc-cu12 12.5.82 which is incompatible.\n",
      "torch 2.6.0+cu124 requires nvidia-cuda-runtime-cu12==12.4.127; platform_system == \"Linux\" and platform_machine == \"x86_64\", but you have nvidia-cuda-runtime-cu12 12.5.82 which is incompatible.\n",
      "torch 2.6.0+cu124 requires nvidia-cudnn-cu12==9.1.0.70; platform_system == \"Linux\" and platform_machine == \"x86_64\", but you have nvidia-cudnn-cu12 9.3.0.75 which is incompatible.\n",
      "torch 2.6.0+cu124 requires nvidia-cufft-cu12==11.2.1.3; platform_system == \"Linux\" and platform_machine == \"x86_64\", but you have nvidia-cufft-cu12 11.2.3.61 which is incompatible.\n",
      "torch 2.6.0+cu124 requires nvidia-curand-cu12==10.3.5.147; platform_system == \"Linux\" and platform_machine == \"x86_64\", but you have nvidia-curand-cu12 10.3.6.82 which is incompatible.\n",
      "torch 2.6.0+cu124 requires nvidia-cusolver-cu12==11.6.1.9; platform_system == \"Linux\" and platform_machine == \"x86_64\", but you have nvidia-cusolver-cu12 11.6.3.83 which is incompatible.\n",
      "torch 2.6.0+cu124 requires nvidia-cusparse-cu12==12.3.1.170; platform_system == \"Linux\" and platform_machine == \"x86_64\", but you have nvidia-cusparse-cu12 12.5.1.3 which is incompatible.\n",
      "torch 2.6.0+cu124 requires nvidia-nvjitlink-cu12==12.4.127; platform_system == \"Linux\" and platform_machine == \"x86_64\", but you have nvidia-nvjitlink-cu12 12.5.82 which is incompatible.\n",
      "gcsfs 2025.3.2 requires fsspec==2025.3.2, but you have fsspec 2025.3.0 which is incompatible.\u001b[0m\u001b[31m\n",
      "\u001b[0mSuccessfully installed datasets-3.6.0 fsspec-2025.3.0\n"
     ]
    }
   ],
   "source": [
    "!pip install --upgrade fsspec datasets"
   ]
  },
  {
   "cell_type": "code",
   "execution_count": 3,
   "metadata": {
    "colab": {
     "base_uri": "https://localhost:8080/",
     "height": 345,
     "referenced_widgets": [
      "59e677b9d9d64726ae42da74f2297a9a",
      "ad22d84d97e44152ab52ac61d98841c6",
      "4341b834a2a04e6c84562aae3f3abc5d",
      "10911fcd44aa4bc980400c260a93d0bc",
      "67c513f60dac4f249846278fd423fea1",
      "2a68b51a80e7497d9939a4e18fb60de8",
      "228110b9c75e48ee8799976b74727efe",
      "d1cb22625d6d4d42ad2da1cab590d5ee",
      "15dfa63d177349a29a138a8c2d534bad",
      "80aa199beedd4d22b8c048adad207894",
      "cfdeff06622a43b6bf188f0bbe1c3afa",
      "0080be4cfb3e482b8493413785b8afc5",
      "915303ae94a84054b2666c1af21785e0",
      "b55cc3aa42a1464d84b30e47df1a84d0",
      "b503d5e61bae4c2dbcf04b335c9681d1",
      "1d05f00b85074d3a8febe33c713f3547",
      "d1524ecbb6924691a8428b4e455ffcea",
      "58f0398b79414c5b8ff23079a41d26b5",
      "e3ffc92c94a34543abf4aece52be1546",
      "7a3ad7d6bb60462f9dba7772a7238616",
      "215283089cea4d76b78f0ab683ca5ca3",
      "a0133190b9284ade8ab4ee462db56743",
      "752e22de7935451b9224ba42df5a8b08",
      "bbd8c09802464198b9fb7ed710621f9e",
      "68233e916be84d9eac4cd4bfd511da8d",
      "63c40dd02e324308b7d950b6d61e20f7",
      "5e55c3dbb52848f6908b367329c6996a",
      "5ebeac448353417db8f8abc1dde38832",
      "55cf10b78e7b4fbe8e74f5fa6d0d456b",
      "abbd540144b94dd88f376da92c7eb9ce",
      "2e473bd12b04424585005dfe871712a2",
      "619fba41c0ae4fe38b613cc0c3769297",
      "f28a24996a8541ae86f63b0ec5d3e4fe",
      "811a047ee1734be59ad1f41d3dc9191d",
      "81c92c5a16c7486498e7cb27ac16801f",
      "cc7a79f555244aeb96bf1b3c36fd2f4f",
      "db1b344df5b14686b023a02a7f3a83db",
      "42f2fca4f2654f9ca33156f45642e2e1",
      "82dacb4abd354e59aa07d026244c25c2",
      "fd56557a2c954d60b140f0f75f302ea6",
      "ac9e0c711ea34de3816b2cb4630ef762",
      "f5b7e5b90f0a4455aa61219ca69845d9",
      "56c061a7af7e48abb7cfd9a853eb7a14",
      "795afbf3c25b4bbe8037cffc2cf24d86",
      "25c8fa90d51b4f0bae81476c897129ec",
      "d7fe71c13f874eb29f3f0ba71fc66abc",
      "221bb0545092433dbd679876d9484d2d",
      "05c38bb46d444d64855929536f544bc8",
      "ae36e64b02d94191909ecac6119f7a97",
      "b7959a48d10748949f7fd8f8ccd5f7bd",
      "943e29b917b8440fb4ff57358cf2f5f7",
      "ae353bac11d5445991b63e4e4f2d297f",
      "1f4ba04a0ac54ba383df5b60c567bb48",
      "92c74c022cad46d59906d4c3673301dd",
      "ed457758e8824bf78a57310ba7214fe0",
      "eeba3fe2f27f468aa18f1725f19ef0b6",
      "3ac7f2383b9b4ebb8cf51af58b6ee8c8",
      "9d08fd2d45324e1ea4e25bf9cda195a9",
      "3dc90fd9edb741569614d3f5d60f08b8",
      "84be62c674f643178e847977a524c2ad",
      "465f9f05406c46fc893c8a469e80a019",
      "6927b7e0013a41aea264c904b502f73d",
      "299ee1504c0c4528a3f48ed818cbdecd",
      "0c70a2c1d4d74777a8eb65c16a27bda1",
      "b3a690b23add4d698a6737b3047f06f1",
      "b133b926a875492791bf5e99ed606a47",
      "e4dc0580307d438aa31a7b3d3c51fb0d",
      "10891c70dc9e4250ab1efa387afec54a",
      "4457df55308d41fb9fb9f1fc55a8d4aa",
      "a8d0e0c165894e1a9835ad22cbc804ab",
      "c420902c09a246a5bfee32bb1802a853",
      "c4344ade812d4286ab40e6a4d768cd96",
      "c17f82b502b64aa28ce61de7b10d9531",
      "073499c5d4a64ebd9ad3ef0812dfac31",
      "4e6bff57869349869ece0a7164a6c244",
      "138332b8a9b04b178cbca4e1a838fabe",
      "ca42d51d65e64cacbc2950933083b835"
     ]
    },
    "id": "qevO-je47Klz",
    "outputId": "8cddcfcb-1f98-43f8-c942-77c0f435d269"
   },
   "outputs": [
    {
     "name": "stderr",
     "output_type": "stream",
     "text": [
      "/usr/local/lib/python3.11/dist-packages/huggingface_hub/utils/_auth.py:94: UserWarning: \n",
      "The secret `HF_TOKEN` does not exist in your Colab secrets.\n",
      "To authenticate with the Hugging Face Hub, create a token in your settings tab (https://huggingface.co/settings/tokens), set it as secret in your Google Colab and restart your session.\n",
      "You will be able to reuse this secret in all of your notebooks.\n",
      "Please note that authentication is recommended but still optional to access public models or datasets.\n",
      "  warnings.warn(\n"
     ]
    },
    {
     "data": {
      "application/vnd.jupyter.widget-view+json": {
       "model_id": "59e677b9d9d64726ae42da74f2297a9a",
       "version_major": 2,
       "version_minor": 0
      },
      "text/plain": [
       "README.md:   0%|          | 0.00/9.40k [00:00<?, ?B/s]"
      ]
     },
     "metadata": {},
     "output_type": "display_data"
    },
    {
     "data": {
      "application/vnd.jupyter.widget-view+json": {
       "model_id": "0080be4cfb3e482b8493413785b8afc5",
       "version_major": 2,
       "version_minor": 0
      },
      "text/plain": [
       "train-00000-of-00001.parquet:   0%|          | 0.00/2.77M [00:00<?, ?B/s]"
      ]
     },
     "metadata": {},
     "output_type": "display_data"
    },
    {
     "data": {
      "application/vnd.jupyter.widget-view+json": {
       "model_id": "752e22de7935451b9224ba42df5a8b08",
       "version_major": 2,
       "version_minor": 0
      },
      "text/plain": [
       "validation-00000-of-00001.parquet:   0%|          | 0.00/350k [00:00<?, ?B/s]"
      ]
     },
     "metadata": {},
     "output_type": "display_data"
    },
    {
     "data": {
      "application/vnd.jupyter.widget-view+json": {
       "model_id": "811a047ee1734be59ad1f41d3dc9191d",
       "version_major": 2,
       "version_minor": 0
      },
      "text/plain": [
       "test-00000-of-00001.parquet:   0%|          | 0.00/347k [00:00<?, ?B/s]"
      ]
     },
     "metadata": {},
     "output_type": "display_data"
    },
    {
     "data": {
      "application/vnd.jupyter.widget-view+json": {
       "model_id": "25c8fa90d51b4f0bae81476c897129ec",
       "version_major": 2,
       "version_minor": 0
      },
      "text/plain": [
       "Generating train split:   0%|          | 0/43410 [00:00<?, ? examples/s]"
      ]
     },
     "metadata": {},
     "output_type": "display_data"
    },
    {
     "data": {
      "application/vnd.jupyter.widget-view+json": {
       "model_id": "eeba3fe2f27f468aa18f1725f19ef0b6",
       "version_major": 2,
       "version_minor": 0
      },
      "text/plain": [
       "Generating validation split:   0%|          | 0/5426 [00:00<?, ? examples/s]"
      ]
     },
     "metadata": {},
     "output_type": "display_data"
    },
    {
     "data": {
      "application/vnd.jupyter.widget-view+json": {
       "model_id": "e4dc0580307d438aa31a7b3d3c51fb0d",
       "version_major": 2,
       "version_minor": 0
      },
      "text/plain": [
       "Generating test split:   0%|          | 0/5427 [00:00<?, ? examples/s]"
      ]
     },
     "metadata": {},
     "output_type": "display_data"
    }
   ],
   "source": [
    "from datasets import load_dataset\n",
    "\n",
    "dataset = load_dataset(\"go_emotions\")\n"
   ]
  },
  {
   "cell_type": "markdown",
   "metadata": {
    "id": "Xcgy02k77fgI"
   },
   "source": [
    "🪄 STEP 2: Preprocess the Text (Tokenize)"
   ]
  },
  {
   "cell_type": "code",
   "execution_count": 4,
   "metadata": {
    "colab": {
     "base_uri": "https://localhost:8080/",
     "height": 273,
     "referenced_widgets": [
      "a32cd7d5cb4048a09fbe426c17338bcb",
      "0b9baf90f6774db98ed004f630ec8987",
      "4cbb8ca433534365ab00e71280258278",
      "887dd46cca5c41ddad41c42a2d6e5686",
      "106a1f5e0768478f84f4d49f0f689da1",
      "02fe541bb002428a8fd6f87e9399d198",
      "ae63be8ea6464d47b34e2321a3c0044a",
      "5486a07b8baf42a48c2f865496bda721",
      "599cad4a1f384a92850d1b63f7a4e8ba",
      "089e6d354b5847a99372de5fa6f8bc6c",
      "a574dfc560834cc096abbbc170e20b54",
      "30105007f05f426f814e36ac22a66232",
      "e6fc7277b4424eaeb55f9a12f14817e1",
      "cb7f22235f0d4dc0a56415d7a8caf78d",
      "45dfb1777ac4448bbaf0c18052970bfd",
      "4a16ffeb7c2941fdbe0dfa81c4f1575a",
      "730d25043e474a8387d23763ca5d6546",
      "2b9c3af52fcb4e9e99b2ec6abf7cab2d",
      "871aec6bfefb41d99bd99c694ee50487",
      "d0045324c0014198b57c32fd612c2eb7",
      "cfed6d51e6954eed9a2afa866426d0da",
      "9080c5fba952461cae1f97978ed5573d",
      "00a1da5371ca4e53846d5f6166c72058",
      "5e18f37416ff4030bf2528245a203e08",
      "ed162ab24d3741689a65d156d44cbd94",
      "e0f01809337e412ebd4a78862e3454f1",
      "c14a0798740844abac016b20ec633180",
      "22c19b0075684ee9b3ca642ed185fde1",
      "e7ccbddf33254688b010d33b90eee7d4",
      "c0e9902c8630422b95a4720601b9d2cf",
      "9d3dee4264514049972e74d071f20cb7",
      "d685c041d5e5476285470306f1670ccb",
      "69b1f0dd46274d89a7bac36cffbbe389",
      "093c0e103e3f4e2390711c3fdd02d7b3",
      "0d9ed74272d241589b01ace27bf37f3d",
      "29313e3b58c246b383f7f923e254cd79",
      "538a20d0695f49babd9af525ad633a45",
      "eeb76c3ed8fe4e5e9e2044d9402478c3",
      "ee43356afb57469e8f99ca6a14d504c5",
      "0a6a8b23f0e949f680deb5a1dcd4821f",
      "71db55ad177c4e43a90de34f263586f1",
      "c6829bf1551a4f30bf33808a762f9631",
      "9b3c7e11ef974d1685c2b04de52ee03e",
      "cab5c702b8c84ec5a43d6648894ea8a0",
      "a85c34a8cb824e2e840663bee1106709",
      "8db6b5d3efc8449f952bdcb9ae5c69b5",
      "603110d4459e4ff9a09874cd4a5b61dc",
      "d5ed2bceb8444ee59248af005e44a128",
      "4df6371ae63b446c9ed6460c9195a2df",
      "cc3f7e7827f4400387ca42627cd7e3bd",
      "2638b79f55a54073ac1b37a831bda159",
      "6ff383ff9bf546bbb4197d6703377ba9",
      "0f6665648a01402ca2c2ff6b5e767f73",
      "5241b4bd6563459092f7567b616342f8",
      "1c01741e5db84f0aabd181426e25fb99",
      "12c1465b2eab4c2bba37bf6eef69ef0c",
      "c431463222234b33b86769a35a2ec445",
      "60523f379cad4112af9dfbcccb90ff6c",
      "f158be903e5d4c67b1ed1eaeff25673e",
      "f1de386a65fe4a259478cdc56f7030e2",
      "71d0bbd6ad104e288295842bfda4f0af",
      "8f000adf39cb4410b518a63dfa0548ac",
      "4c2462b633a64b8b9c4dc139c654306d",
      "611865b416894e84bad44f325d674846",
      "004f6b1eb4c743289cffd6da42ec38ca",
      "22d06e4a61fd4f76bac7877f8f64f2ed",
      "cde2c171f0394037a30163c2853db2a7",
      "b55fc8f741e74deba3e67fd6b5f19536",
      "8e03f170e93443e480ecddd2f160f32f",
      "09585979a5b3422d8c4d2d8fe4f719e8",
      "3390e86b28fd426ea524d66ef830a11f",
      "c2b27d5d42bd4176a1e97c8147884c45",
      "47712b71f54b42f08edfb56edd3cec94",
      "f2a375cbf3214ea5b85bc4c977462f12",
      "97a08325822f42888cc88dc0e41c0d92",
      "e3258111863c4062b84aeb4b61537a86",
      "3598a030851047a7bd77ba66b4e19736",
      "d7576acd01d848b29592501b8bac8710",
      "73beeda764c34eef98d21dcb145d5bc0",
      "d7c2964829b3490881456f17deda9ccc",
      "25f8db3c4bf9410ea58f0ac3e5bc92b9",
      "48399a6bbad04f35a1eed07ec7b02c72",
      "ce2414a806b342e5ae8a5c1ac044cafa",
      "1ec34a8d388a402eab0bf75017de8040",
      "b0f466526cd3426fbdb4f3fc28ab64c4",
      "13889e027d664851b741ce5b694d00bf",
      "ac1ec3d795124b3cb768e801b5dff791",
      "fee67d695ef949e7bbe0c794a072ed12"
     ]
    },
    "id": "Cv9rtsa07O2u",
    "outputId": "2130ce75-76ee-4adc-b62c-27ff79024517"
   },
   "outputs": [
    {
     "data": {
      "application/vnd.jupyter.widget-view+json": {
       "model_id": "a32cd7d5cb4048a09fbe426c17338bcb",
       "version_major": 2,
       "version_minor": 0
      },
      "text/plain": [
       "tokenizer_config.json:   0%|          | 0.00/25.0 [00:00<?, ?B/s]"
      ]
     },
     "metadata": {},
     "output_type": "display_data"
    },
    {
     "data": {
      "application/vnd.jupyter.widget-view+json": {
       "model_id": "30105007f05f426f814e36ac22a66232",
       "version_major": 2,
       "version_minor": 0
      },
      "text/plain": [
       "config.json:   0%|          | 0.00/481 [00:00<?, ?B/s]"
      ]
     },
     "metadata": {},
     "output_type": "display_data"
    },
    {
     "data": {
      "application/vnd.jupyter.widget-view+json": {
       "model_id": "00a1da5371ca4e53846d5f6166c72058",
       "version_major": 2,
       "version_minor": 0
      },
      "text/plain": [
       "vocab.json:   0%|          | 0.00/899k [00:00<?, ?B/s]"
      ]
     },
     "metadata": {},
     "output_type": "display_data"
    },
    {
     "data": {
      "application/vnd.jupyter.widget-view+json": {
       "model_id": "093c0e103e3f4e2390711c3fdd02d7b3",
       "version_major": 2,
       "version_minor": 0
      },
      "text/plain": [
       "merges.txt:   0%|          | 0.00/456k [00:00<?, ?B/s]"
      ]
     },
     "metadata": {},
     "output_type": "display_data"
    },
    {
     "data": {
      "application/vnd.jupyter.widget-view+json": {
       "model_id": "a85c34a8cb824e2e840663bee1106709",
       "version_major": 2,
       "version_minor": 0
      },
      "text/plain": [
       "tokenizer.json:   0%|          | 0.00/1.36M [00:00<?, ?B/s]"
      ]
     },
     "metadata": {},
     "output_type": "display_data"
    },
    {
     "data": {
      "application/vnd.jupyter.widget-view+json": {
       "model_id": "12c1465b2eab4c2bba37bf6eef69ef0c",
       "version_major": 2,
       "version_minor": 0
      },
      "text/plain": [
       "Map:   0%|          | 0/43410 [00:00<?, ? examples/s]"
      ]
     },
     "metadata": {},
     "output_type": "display_data"
    },
    {
     "data": {
      "application/vnd.jupyter.widget-view+json": {
       "model_id": "cde2c171f0394037a30163c2853db2a7",
       "version_major": 2,
       "version_minor": 0
      },
      "text/plain": [
       "Map:   0%|          | 0/5426 [00:00<?, ? examples/s]"
      ]
     },
     "metadata": {},
     "output_type": "display_data"
    },
    {
     "data": {
      "application/vnd.jupyter.widget-view+json": {
       "model_id": "d7576acd01d848b29592501b8bac8710",
       "version_major": 2,
       "version_minor": 0
      },
      "text/plain": [
       "Map:   0%|          | 0/5427 [00:00<?, ? examples/s]"
      ]
     },
     "metadata": {},
     "output_type": "display_data"
    }
   ],
   "source": [
    "from transformers import BertTokenizer, AutoTokenizer, AutoModelForSequenceClassification\n",
    "\n",
    "model_checkpoint = \"roberta-base\"\n",
    "\n",
    "tokenizer = AutoTokenizer.from_pretrained(model_checkpoint)\n",
    "\n",
    "# Tokenization function\n",
    "def tokenize(batch):\n",
    "    return tokenizer(batch['text'], padding='max_length', truncation=True, max_length=64)\n",
    "\n",
    "# Apply tokenization\n",
    "encoded_dataset = dataset.map(tokenize, batched=True)\n"
   ]
  },
  {
   "cell_type": "markdown",
   "metadata": {
    "id": "uz_XTCnc7kyg"
   },
   "source": [
    "🎯 STEP 3: Prepare Labels (Multi-label encoding)"
   ]
  },
  {
   "cell_type": "code",
   "execution_count": 5,
   "metadata": {
    "id": "xrg7AVie-_DD"
   },
   "outputs": [],
   "source": [
    "encoded_dataset.reset_format()\n",
    "\n"
   ]
  },
  {
   "cell_type": "code",
   "execution_count": 6,
   "metadata": {
    "colab": {
     "base_uri": "https://localhost:8080/",
     "height": 113,
     "referenced_widgets": [
      "4034cbbaef4c43dfa82c9f06b4b718c1",
      "bb6bbee8f276410ebd6326876ec05e2a",
      "442abcc5d908474aa1d797d2b766cdcc",
      "0ece879215e54dafbcc0f65930577e36",
      "698d33d0b67e4d8ca57268dafc5837a3",
      "3b392836bd814c0494128b30e3ae8bc0",
      "0dee9511440f41009c36e587aee0a1ac",
      "47b4f7074d2942e48ae58d5bb8c9d5d4",
      "31fb9047993a45cab2f705c1b154ade9",
      "7730d90189cb40d2bf852f8a46b7821a",
      "a4bca1b0efb54271a7523007f521bf80",
      "6ce63f5ccc4f40ef9065d1bc07967e4d",
      "a3d86572e8734eaaad44e1792be2e66e",
      "c7d64e440ffb44de8dfe5a806b32c608",
      "ccffb955e214416b919217adbad22926",
      "0a91421524de4b51ae70223a257e3f71",
      "88f98fbc805641d98d504100b285c2fe",
      "c80dfd64e3a042648d40d7706ed37d4c",
      "f5f3c7db8d57412aae864af61b85f5f9",
      "1f88d56a2d9344e5836a7be31ec4e7a0",
      "b6a99b6ca88e4acb9c7a19b364b4a766",
      "4d36c73d909149318269f61c18a51522",
      "520a337ac9874f32977bc9a957567d15",
      "0ba427c01837445bbaaa6e7c0eca808a",
      "7835fd5fadaf4d298a73fc1f8a48d745",
      "46718ace207445ff87d596ba9cab14fe",
      "43b8f9ab83f945aab4505397247c5809",
      "492f42dddbcf4d5f9630791373c0eabb",
      "49bace6b6e6046e9a143c6ce65f8d280",
      "e9515737c8004ce2a60a56f88216b5fd",
      "c60133870e554d36b713be7715c27214",
      "676c52c90fec4d4bb904e424ff682667",
      "6b1efd0c45a74a45a88ec0934ae22dc5"
     ]
    },
    "id": "vhisYo4u7VKW",
    "outputId": "162aed99-6b93-4974-efea-ec7a9e90fceb"
   },
   "outputs": [
    {
     "data": {
      "application/vnd.jupyter.widget-view+json": {
       "model_id": "4034cbbaef4c43dfa82c9f06b4b718c1",
       "version_major": 2,
       "version_minor": 0
      },
      "text/plain": [
       "Map:   0%|          | 0/43410 [00:00<?, ? examples/s]"
      ]
     },
     "metadata": {},
     "output_type": "display_data"
    },
    {
     "data": {
      "application/vnd.jupyter.widget-view+json": {
       "model_id": "6ce63f5ccc4f40ef9065d1bc07967e4d",
       "version_major": 2,
       "version_minor": 0
      },
      "text/plain": [
       "Map:   0%|          | 0/5426 [00:00<?, ? examples/s]"
      ]
     },
     "metadata": {},
     "output_type": "display_data"
    },
    {
     "data": {
      "application/vnd.jupyter.widget-view+json": {
       "model_id": "520a337ac9874f32977bc9a957567d15",
       "version_major": 2,
       "version_minor": 0
      },
      "text/plain": [
       "Map:   0%|          | 0/5427 [00:00<?, ? examples/s]"
      ]
     },
     "metadata": {},
     "output_type": "display_data"
    }
   ],
   "source": [
    "from sklearn.preprocessing import MultiLabelBinarizer\n",
    "\n",
    "# Fit label binarizer on training labels\n",
    "mlb = MultiLabelBinarizer()\n",
    "mlb.fit(dataset['train']['labels'])\n",
    "\n",
    "def encode_labels(example):\n",
    "    example['labels'] = mlb.transform([example['labels']])[0].astype(float).tolist()\n",
    "    return example\n",
    "\n",
    "encoded_dataset = encoded_dataset.map(encode_labels)\n",
    "\n"
   ]
  },
  {
   "cell_type": "markdown",
   "metadata": {
    "id": "HXAl5uRo7ny_"
   },
   "source": [
    "🏋️ STEP 4: Format for PyTorch"
   ]
  },
  {
   "cell_type": "code",
   "execution_count": 7,
   "metadata": {
    "colab": {
     "base_uri": "https://localhost:8080/",
     "height": 113,
     "referenced_widgets": [
      "620bfd4ff25546658ad9523c40db1565",
      "7650ed291a374f8face21b71ba754d62",
      "5ae451defd484b1cbbe92c02ec260cb0",
      "bfe8a51b365a47f8b1ddbd56ff8adf29",
      "0addbdc2629a4f23a974b45a4bee6e04",
      "1ded8504b4aa49bba4ec6b06ac7d3b97",
      "408902f5aff3469583bf434ea12229e6",
      "79660d4620ce46babe2e498b22726d11",
      "4775ecc89ee8463d9f9d87f7f3884ce7",
      "50d9a813f2b84f0e83c5329a5d53f407",
      "ad1f510539f24e53bedf1a4a148157f3",
      "8f98b151d479444ca6cd268c124366dc",
      "c948e4e8a1e54b17a9d99e98a89922cc",
      "c5162bd871e54822a61988a9cb956595",
      "11c6f40a00ce44f286b70d9acd52f6db",
      "521d8f52ef644ec0aeb8d107cc2d9d9a",
      "d88114f5769c47aeba6a993a1eb7b0c5",
      "ba8d09c211ff4f0ba9def40452f98c86",
      "5d09d45ff31445e498bdb2ed2601eb00",
      "c7890f19879745218d037be9cb4ebcb7",
      "460bba05d58b4ff4ad186801d9882c3d",
      "f9986c8b856f435da593e66c169acb84",
      "b07a088a942249b3b39156a33407288f",
      "ffef40de431641d4a5e5383d765ab4d2",
      "f8ca5d53367b4697a99f5d567a263f7c",
      "cb8e03832c244ee0a03ed8b0cb34d0fe",
      "94df7de743ff4b1cbaafb2e4c514a66c",
      "65364f19f5ef4c148eccd8fd38df05d7",
      "20368e65e24148148f749eac2b308c80",
      "8b3ed77c4c774945b793aea04aef423a",
      "853023a37aa9462cacb4f5dee912cb6f",
      "6c60929d51f642ffb3357603c89d1e10",
      "6d84feb9990348ed9643aa271e44aa90"
     ]
    },
    "id": "fMSHzRVV7ZzM",
    "outputId": "b9aaa79e-0fe4-4778-c776-a709cb262cd0"
   },
   "outputs": [
    {
     "data": {
      "application/vnd.jupyter.widget-view+json": {
       "model_id": "620bfd4ff25546658ad9523c40db1565",
       "version_major": 2,
       "version_minor": 0
      },
      "text/plain": [
       "Casting the dataset:   0%|          | 0/43410 [00:00<?, ? examples/s]"
      ]
     },
     "metadata": {},
     "output_type": "display_data"
    },
    {
     "data": {
      "application/vnd.jupyter.widget-view+json": {
       "model_id": "8f98b151d479444ca6cd268c124366dc",
       "version_major": 2,
       "version_minor": 0
      },
      "text/plain": [
       "Casting the dataset:   0%|          | 0/5426 [00:00<?, ? examples/s]"
      ]
     },
     "metadata": {},
     "output_type": "display_data"
    },
    {
     "data": {
      "application/vnd.jupyter.widget-view+json": {
       "model_id": "b07a088a942249b3b39156a33407288f",
       "version_major": 2,
       "version_minor": 0
      },
      "text/plain": [
       "Casting the dataset:   0%|          | 0/5427 [00:00<?, ? examples/s]"
      ]
     },
     "metadata": {},
     "output_type": "display_data"
    }
   ],
   "source": [
    "import torch\n",
    "import datasets\n",
    "\n",
    "encoded_dataset.set_format(\n",
    "    type='torch',\n",
    "    columns=['input_ids', 'attention_mask', 'labels'],\n",
    "    output_all_columns=False,\n",
    "    device='cpu'\n",
    ")\n",
    "\n",
    "# Explicitly set label dtype to float\n",
    "encoded_dataset = encoded_dataset.cast_column(\"labels\", datasets.features.Sequence(datasets.Value(\"float32\")))\n"
   ]
  },
  {
   "cell_type": "markdown",
   "metadata": {
    "id": "A0Z6hDNj7rHN"
   },
   "source": [
    "🧠 STEP 5: Load Pretrained BERT + Setup Trainer"
   ]
  },
  {
   "cell_type": "code",
   "execution_count": 8,
   "metadata": {
    "colab": {
     "base_uri": "https://localhost:8080/",
     "height": 84,
     "referenced_widgets": [
      "4fa2878c05f64e7184e064179e74793a",
      "536bef6f96074961af8a7c337748c1e1",
      "484638ed5d0442cfb67f5797e736c5ed",
      "63b23b7ab1d04111b5b9b35c8c8d1f75",
      "691d144b2f064ceb976d7546ae9a3631",
      "99813091c9654c259caf59cc2e12f6fd",
      "577acf8ad4fd424489b25d1a3b2deb8c",
      "ffdf1c67ea4849b39c3ee6f126dcf010",
      "a4b83b9ac8634b9384235bfb7eb34ea4",
      "dd7bc86e510d4b3083697246f143ff05",
      "7f1a7e60f86f417dace4f14bb9d875b0"
     ]
    },
    "id": "tjMaLCtJ7rlu",
    "outputId": "8e7272ab-e231-4f90-c613-776fd2f9e7cb"
   },
   "outputs": [
    {
     "data": {
      "application/vnd.jupyter.widget-view+json": {
       "model_id": "4fa2878c05f64e7184e064179e74793a",
       "version_major": 2,
       "version_minor": 0
      },
      "text/plain": [
       "model.safetensors:   0%|          | 0.00/499M [00:00<?, ?B/s]"
      ]
     },
     "metadata": {},
     "output_type": "display_data"
    },
    {
     "name": "stderr",
     "output_type": "stream",
     "text": [
      "Some weights of RobertaForSequenceClassification were not initialized from the model checkpoint at roberta-base and are newly initialized: ['classifier.dense.bias', 'classifier.dense.weight', 'classifier.out_proj.bias', 'classifier.out_proj.weight']\n",
      "You should probably TRAIN this model on a down-stream task to be able to use it for predictions and inference.\n"
     ]
    }
   ],
   "source": [
    "from transformers import BertForSequenceClassification\n",
    "\n",
    "# RoBERTa model for multi-label classification (we use BCEWithLogitsLoss under the hood)\n",
    "\n",
    "\n",
    "tokenizer = AutoTokenizer.from_pretrained(model_checkpoint)\n",
    "model = AutoModelForSequenceClassification.from_pretrained(\n",
    "    model_checkpoint,\n",
    "    num_labels=len(mlb.classes_),\n",
    "    problem_type=\"multi_label_classification\"\n",
    ")\n",
    "\n"
   ]
  },
  {
   "cell_type": "markdown",
   "metadata": {
    "id": "Vslsg2YG7tXg"
   },
   "source": [
    "🧪 STEP 6: Training Setup"
   ]
  },
  {
   "cell_type": "code",
   "execution_count": 9,
   "metadata": {
    "colab": {
     "base_uri": "https://localhost:8080/"
    },
    "id": "EsBCUAeddcEs",
    "outputId": "ca85bcd7-1f87-450f-a854-bb391e133e68"
   },
   "outputs": [
    {
     "name": "stdout",
     "output_type": "stream",
     "text": [
      "Requirement already satisfied: transformers in /usr/local/lib/python3.11/dist-packages (4.51.3)\n",
      "Requirement already satisfied: filelock in /usr/local/lib/python3.11/dist-packages (from transformers) (3.18.0)\n",
      "Requirement already satisfied: huggingface-hub<1.0,>=0.30.0 in /usr/local/lib/python3.11/dist-packages (from transformers) (0.31.1)\n",
      "Requirement already satisfied: numpy>=1.17 in /usr/local/lib/python3.11/dist-packages (from transformers) (2.0.2)\n",
      "Requirement already satisfied: packaging>=20.0 in /usr/local/lib/python3.11/dist-packages (from transformers) (24.2)\n",
      "Requirement already satisfied: pyyaml>=5.1 in /usr/local/lib/python3.11/dist-packages (from transformers) (6.0.2)\n",
      "Requirement already satisfied: regex!=2019.12.17 in /usr/local/lib/python3.11/dist-packages (from transformers) (2024.11.6)\n",
      "Requirement already satisfied: requests in /usr/local/lib/python3.11/dist-packages (from transformers) (2.32.3)\n",
      "Requirement already satisfied: tokenizers<0.22,>=0.21 in /usr/local/lib/python3.11/dist-packages (from transformers) (0.21.1)\n",
      "Requirement already satisfied: safetensors>=0.4.3 in /usr/local/lib/python3.11/dist-packages (from transformers) (0.5.3)\n",
      "Requirement already satisfied: tqdm>=4.27 in /usr/local/lib/python3.11/dist-packages (from transformers) (4.67.1)\n",
      "Requirement already satisfied: fsspec>=2023.5.0 in /usr/local/lib/python3.11/dist-packages (from huggingface-hub<1.0,>=0.30.0->transformers) (2025.3.0)\n",
      "Requirement already satisfied: typing-extensions>=3.7.4.3 in /usr/local/lib/python3.11/dist-packages (from huggingface-hub<1.0,>=0.30.0->transformers) (4.13.2)\n",
      "Requirement already satisfied: hf-xet<2.0.0,>=1.1.0 in /usr/local/lib/python3.11/dist-packages (from huggingface-hub<1.0,>=0.30.0->transformers) (1.1.0)\n",
      "Requirement already satisfied: charset-normalizer<4,>=2 in /usr/local/lib/python3.11/dist-packages (from requests->transformers) (3.4.2)\n",
      "Requirement already satisfied: idna<4,>=2.5 in /usr/local/lib/python3.11/dist-packages (from requests->transformers) (3.10)\n",
      "Requirement already satisfied: urllib3<3,>=1.21.1 in /usr/local/lib/python3.11/dist-packages (from requests->transformers) (2.4.0)\n",
      "Requirement already satisfied: certifi>=2017.4.17 in /usr/local/lib/python3.11/dist-packages (from requests->transformers) (2025.4.26)\n"
     ]
    }
   ],
   "source": [
    "!pip install --upgrade transformers"
   ]
  },
  {
   "cell_type": "code",
   "execution_count": 10,
   "metadata": {
    "id": "bHrcWCmQ7vzp"
   },
   "outputs": [],
   "source": [
    "import torch\n",
    "from transformers import TrainingArguments, Trainer\n",
    "from sklearn.metrics import f1_score, accuracy_score\n",
    "import numpy as np\n",
    "\n",
    "def compute_metrics(p):\n",
    "    preds = (p.predictions > 0.5).astype(int)\n",
    "    labels = p.label_ids\n",
    "    return {\n",
    "        'micro_f1': f1_score(labels, preds, average='micro'),\n",
    "        'macro_f1': f1_score(labels, preds, average='macro'),\n",
    "        'accuracy': accuracy_score(labels, preds)\n",
    "    }\n",
    "\n",
    "# Set the device here in TrainingArguments\n",
    "device = \"cuda\" if torch.cuda.is_available() else \"cpu\"\n",
    "from transformers import TrainingArguments\n",
    "\n",
    "training_args = TrainingArguments(\n",
    "    output_dir=\"./results\",\n",
    "    eval_strategy=\"epoch\",\n",
    "    save_strategy=\"epoch\",\n",
    "    learning_rate=2e-5,\n",
    "    per_device_train_batch_size=8,\n",
    "    per_device_eval_batch_size=8,\n",
    "    num_train_epochs=4,\n",
    "    weight_decay=0.01,\n",
    "    logging_dir=None,\n",
    "    logging_steps=500,\n",
    "    load_best_model_at_end=True,\n",
    "    metric_for_best_model=\"eval_micro_f1\",\n",
    "    greater_is_better=True,\n",
    "    disable_tqdm=True,\n",
    "    report_to=None      # Disable logging to WandB explicitly\n",
    ")\n",
    "\n",
    "\n",
    "trainer = Trainer(\n",
    "    model=model,\n",
    "    args=training_args,\n",
    "    train_dataset=encoded_dataset[\"train\"],\n",
    "    eval_dataset=encoded_dataset[\"validation\"],\n",
    "    compute_metrics=compute_metrics\n",
    ")\n"
   ]
  },
  {
   "cell_type": "markdown",
   "metadata": {
    "id": "mulQep3b7zqU"
   },
   "source": [
    "🚀 STEP 7: Train the Model"
   ]
  },
  {
   "cell_type": "code",
   "execution_count": 11,
   "metadata": {
    "colab": {
     "base_uri": "https://localhost:8080/",
     "height": 885
    },
    "id": "7951peEq9P6I",
    "outputId": "ea73140f-e473-4e20-af2e-437f22c42855"
   },
   "outputs": [
    {
     "name": "stderr",
     "output_type": "stream",
     "text": [
      "\u001b[34m\u001b[1mwandb\u001b[0m: \u001b[33mWARNING\u001b[0m The `run_name` is currently set to the same value as `TrainingArguments.output_dir`. If this was not intended, please specify a different run name by setting the `TrainingArguments.run_name` parameter.\n"
     ]
    },
    {
     "name": "stdout",
     "output_type": "stream",
     "text": [
      "{'loss': 0.1823, 'grad_norm': 0.6423712968826294, 'learning_rate': 1.9540261654689515e-05, 'epoch': 0.09213193292795283}\n",
      "{'loss': 0.1247, 'grad_norm': 0.8257363438606262, 'learning_rate': 1.9079601990049753e-05, 'epoch': 0.18426386585590565}\n",
      "{'loss': 0.1102, 'grad_norm': 0.47904959321022034, 'learning_rate': 1.8618942325409988e-05, 'epoch': 0.2763957987838585}\n",
      "{'loss': 0.1033, 'grad_norm': 0.7590142488479614, 'learning_rate': 1.8158282660770222e-05, 'epoch': 0.3685277317118113}\n",
      "{'loss': 0.0987, 'grad_norm': 1.3979295492172241, 'learning_rate': 1.769762299613046e-05, 'epoch': 0.46065966463976415}\n",
      "{'loss': 0.0983, 'grad_norm': 0.9217475056648254, 'learning_rate': 1.7236963331490698e-05, 'epoch': 0.552791597567717}\n",
      "{'loss': 0.0957, 'grad_norm': 1.197446346282959, 'learning_rate': 1.6776303666850932e-05, 'epoch': 0.6449235304956698}\n",
      "{'loss': 0.0912, 'grad_norm': 0.6612133383750916, 'learning_rate': 1.631564400221117e-05, 'epoch': 0.7370554634236226}\n",
      "{'loss': 0.0914, 'grad_norm': 0.589449942111969, 'learning_rate': 1.5854984337571404e-05, 'epoch': 0.8291873963515755}\n",
      "{'loss': 0.0921, 'grad_norm': 0.5913171768188477, 'learning_rate': 1.539432467293164e-05, 'epoch': 0.9213193292795283}\n",
      "{'eval_loss': 0.08710239082574844, 'eval_micro_f1': 0.5040271301398898, 'eval_macro_f1': 0.3237624893275444, 'eval_accuracy': 0.3591964614817545, 'eval_runtime': 18.6803, 'eval_samples_per_second': 290.466, 'eval_steps_per_second': 36.348, 'epoch': 1.0}\n",
      "{'loss': 0.088, 'grad_norm': 0.7079988718032837, 'learning_rate': 1.4933665008291875e-05, 'epoch': 1.0134512622074812}\n",
      "{'loss': 0.0838, 'grad_norm': 1.3603726625442505, 'learning_rate': 1.4473005343652111e-05, 'epoch': 1.105583195135434}\n",
      "{'loss': 0.0818, 'grad_norm': 0.9278553128242493, 'learning_rate': 1.4012345679012347e-05, 'epoch': 1.1977151280633866}\n",
      "{'loss': 0.081, 'grad_norm': 0.5204140543937683, 'learning_rate': 1.3551686014372583e-05, 'epoch': 1.2898470609913395}\n",
      "{'loss': 0.0825, 'grad_norm': 0.799666166305542, 'learning_rate': 1.3091026349732818e-05, 'epoch': 1.3819789939192924}\n",
      "{'loss': 0.0824, 'grad_norm': 0.658560037612915, 'learning_rate': 1.2630366685093054e-05, 'epoch': 1.4741109268472452}\n",
      "{'loss': 0.0826, 'grad_norm': 1.1826547384262085, 'learning_rate': 1.216970702045329e-05, 'epoch': 1.566242859775198}\n",
      "{'loss': 0.0816, 'grad_norm': 0.9111345410346985, 'learning_rate': 1.1709047355813526e-05, 'epoch': 1.658374792703151}\n",
      "{'loss': 0.0794, 'grad_norm': 0.7741035223007202, 'learning_rate': 1.124838769117376e-05, 'epoch': 1.7505067256311038}\n",
      "{'loss': 0.0784, 'grad_norm': 0.9081617593765259, 'learning_rate': 1.0787728026533997e-05, 'epoch': 1.8426386585590566}\n",
      "{'loss': 0.0808, 'grad_norm': 1.4665488004684448, 'learning_rate': 1.0327068361894233e-05, 'epoch': 1.9347705914870095}\n",
      "{'eval_loss': 0.08211835473775864, 'eval_micro_f1': 0.5351851851851852, 'eval_macro_f1': 0.37173374749041205, 'eval_accuracy': 0.4001105786951714, 'eval_runtime': 18.5627, 'eval_samples_per_second': 292.306, 'eval_steps_per_second': 36.579, 'epoch': 2.0}\n",
      "{'loss': 0.0762, 'grad_norm': 1.3089181184768677, 'learning_rate': 9.866408697254469e-06, 'epoch': 2.0269025244149623}\n",
      "{'loss': 0.0725, 'grad_norm': 0.9591577053070068, 'learning_rate': 9.405749032614705e-06, 'epoch': 2.119034457342915}\n",
      "{'loss': 0.0725, 'grad_norm': 1.532889723777771, 'learning_rate': 8.945089367974941e-06, 'epoch': 2.211166390270868}\n",
      "{'loss': 0.0716, 'grad_norm': 0.7953652739524841, 'learning_rate': 8.484429703335177e-06, 'epoch': 2.303298323198821}\n",
      "{'loss': 0.0691, 'grad_norm': 1.204850673675537, 'learning_rate': 8.023770038695412e-06, 'epoch': 2.3954302561267733}\n",
      "{'loss': 0.0728, 'grad_norm': 1.031632661819458, 'learning_rate': 7.563110374055649e-06, 'epoch': 2.487562189054726}\n",
      "{'loss': 0.0711, 'grad_norm': 0.9665982723236084, 'learning_rate': 7.102450709415885e-06, 'epoch': 2.579694121982679}\n",
      "{'loss': 0.0704, 'grad_norm': 1.2064194679260254, 'learning_rate': 6.64179104477612e-06, 'epoch': 2.671826054910632}\n",
      "{'loss': 0.0718, 'grad_norm': 1.433132529258728, 'learning_rate': 6.181131380136356e-06, 'epoch': 2.7639579878385847}\n",
      "{'loss': 0.0673, 'grad_norm': 0.8075768351554871, 'learning_rate': 5.720471715496591e-06, 'epoch': 2.8560899207665376}\n",
      "{'loss': 0.0685, 'grad_norm': 0.6051512360572815, 'learning_rate': 5.2598120508568275e-06, 'epoch': 2.9482218536944904}\n",
      "{'eval_loss': 0.08283547312021255, 'eval_micro_f1': 0.5484605484605485, 'eval_macro_f1': 0.4058737000022325, 'eval_accuracy': 0.4157758938444526, 'eval_runtime': 18.5909, 'eval_samples_per_second': 291.864, 'eval_steps_per_second': 36.523, 'epoch': 3.0}\n",
      "{'loss': 0.0676, 'grad_norm': 0.5332770347595215, 'learning_rate': 4.799152386217063e-06, 'epoch': 3.0403537866224433}\n",
      "{'loss': 0.0648, 'grad_norm': 1.8614176511764526, 'learning_rate': 4.338492721577299e-06, 'epoch': 3.132485719550396}\n",
      "{'loss': 0.0619, 'grad_norm': 1.4675209522247314, 'learning_rate': 3.877833056937535e-06, 'epoch': 3.224617652478349}\n",
      "{'loss': 0.0625, 'grad_norm': 1.671404480934143, 'learning_rate': 3.4171733922977707e-06, 'epoch': 3.316749585406302}\n",
      "{'loss': 0.0622, 'grad_norm': 1.1762422323226929, 'learning_rate': 2.9565137276580064e-06, 'epoch': 3.4088815183342547}\n",
      "{'loss': 0.0623, 'grad_norm': 1.1610107421875, 'learning_rate': 2.495854063018242e-06, 'epoch': 3.5010134512622075}\n",
      "{'loss': 0.0612, 'grad_norm': 1.13041090965271, 'learning_rate': 2.035194398378478e-06, 'epoch': 3.5931453841901604}\n",
      "{'loss': 0.0633, 'grad_norm': 0.9271616339683533, 'learning_rate': 1.574534733738714e-06, 'epoch': 3.6852773171181132}\n",
      "{'loss': 0.0632, 'grad_norm': 2.0529391765594482, 'learning_rate': 1.1138750690989499e-06, 'epoch': 3.777409250046066}\n",
      "{'loss': 0.0622, 'grad_norm': 1.7421464920043945, 'learning_rate': 6.532154044591856e-07, 'epoch': 3.869541182974019}\n",
      "{'loss': 0.061, 'grad_norm': 1.5602917671203613, 'learning_rate': 1.9255573981942142e-07, 'epoch': 3.961673115901972}\n",
      "{'eval_loss': 0.08506891131401062, 'eval_micro_f1': 0.563970658283319, 'eval_macro_f1': 0.4301003412436445, 'eval_accuracy': 0.4399189089568743, 'eval_runtime': 18.5883, 'eval_samples_per_second': 291.903, 'eval_steps_per_second': 36.528, 'epoch': 4.0}\n",
      "{'train_runtime': 2794.3029, 'train_samples_per_second': 62.141, 'train_steps_per_second': 7.769, 'train_loss': 0.08045158202595006, 'epoch': 4.0}\n"
     ]
    },
    {
     "data": {
      "text/plain": [
       "TrainOutput(global_step=21708, training_loss=0.08045158202595006, metrics={'train_runtime': 2794.3029, 'train_samples_per_second': 62.141, 'train_steps_per_second': 7.769, 'train_loss': 0.08045158202595006, 'epoch': 4.0})"
      ]
     },
     "execution_count": 11,
     "metadata": {},
     "output_type": "execute_result"
    }
   ],
   "source": [
    "import torch\n",
    "import os\n",
    "\n",
    "# Disable Weights & Biases logging\n",
    "os.environ[\"WANDB_DISABLED\"] = \"true\"\n",
    "\n",
    "# Set device\n",
    "device = torch.device(\"cuda\" if torch.cuda.is_available() else \"cpu\")\n",
    "\n",
    "# Move model to the selected device\n",
    "model.to(device)\n",
    "\n",
    "# **Import wandb and disable it explicitly**\n",
    "import wandb\n",
    "wandb.init(mode=\"disabled\")\n",
    "\n",
    "# Train the model\n",
    "trainer.train()\n"
   ]
  },
  {
   "cell_type": "markdown",
   "metadata": {
    "id": "8eo3zDmT73lV"
   },
   "source": [
    "🎉 STEP 8: Evaluate the Model"
   ]
  },
  {
   "cell_type": "code",
   "execution_count": 12,
   "metadata": {
    "colab": {
     "base_uri": "https://localhost:8080/"
    },
    "id": "otdU1TCW8DKd",
    "outputId": "cd48edc6-ade5-484e-9c5f-08c1afcb86e6"
   },
   "outputs": [
    {
     "name": "stdout",
     "output_type": "stream",
     "text": [
      "{'eval_loss': 0.08506891131401062, 'eval_micro_f1': 0.563970658283319, 'eval_macro_f1': 0.4301003412436445, 'eval_accuracy': 0.4399189089568743, 'eval_runtime': 18.6125, 'eval_samples_per_second': 291.525, 'eval_steps_per_second': 36.481, 'epoch': 4.0}\n",
      "Evaluation results: {'eval_loss': 0.08506891131401062, 'eval_micro_f1': 0.563970658283319, 'eval_macro_f1': 0.4301003412436445, 'eval_accuracy': 0.4399189089568743, 'eval_runtime': 18.6125, 'eval_samples_per_second': 291.525, 'eval_steps_per_second': 36.481, 'epoch': 4.0}\n",
      "Precision: 0.722716049382716\n",
      "Recall: 0.4624743245378417\n"
     ]
    }
   ],
   "source": [
    "# Evaluate on the test set using the trainer\n",
    "results = trainer.evaluate()\n",
    "\n",
    "# Print the results\n",
    "print(\"Evaluation results:\", results)\n",
    "\n",
    "from sklearn.metrics import precision_score, recall_score\n",
    "\n",
    "# Get predictions for the test set\n",
    "predictions = trainer.predict(encoded_dataset[\"test\"])\n",
    "\n",
    "# Extract predicted labels (assuming binary classification)\n",
    "pred_labels = (predictions.predictions > 0.5).astype(int)\n",
    "\n",
    "# Extract true labels\n",
    "true_labels = predictions.label_ids\n",
    "\n",
    "precision = precision_score(true_labels, pred_labels, average='micro')\n",
    "recall = recall_score(true_labels, pred_labels, average='micro')\n",
    "\n",
    "print(f\"Precision: {precision}\")\n",
    "print(f\"Recall: {recall}\")\n",
    "\n",
    "\n"
   ]
  },
  {
   "cell_type": "markdown",
   "metadata": {
    "id": "KCRBjL4O7-aS"
   },
   "source": [
    "Save the Model"
   ]
  },
  {
   "cell_type": "code",
   "execution_count": 13,
   "metadata": {
    "colab": {
     "base_uri": "https://localhost:8080/"
    },
    "id": "3skJCHhGwBg0",
    "outputId": "58281faf-d319-49ff-a2bf-e1863919428e"
   },
   "outputs": [
    {
     "name": "stdout",
     "output_type": "stream",
     "text": [
      "Mounted at /content/drive\n"
     ]
    }
   ],
   "source": [
    "from google.colab import drive\n",
    "drive.mount(\"/content/drive\")\n"
   ]
  },
  {
   "cell_type": "code",
   "execution_count": 14,
   "metadata": {
    "colab": {
     "base_uri": "https://localhost:8080/"
    },
    "id": "tc0HaePHwC1-",
    "outputId": "dcb74980-6787-4a2e-ad7c-ad9531007a73"
   },
   "outputs": [
    {
     "data": {
      "text/plain": [
       "('/content/drive/MyDrive/emotion_model/tokenizer_config.json',\n",
       " '/content/drive/MyDrive/emotion_model/special_tokens_map.json',\n",
       " '/content/drive/MyDrive/emotion_model/vocab.json',\n",
       " '/content/drive/MyDrive/emotion_model/merges.txt',\n",
       " '/content/drive/MyDrive/emotion_model/added_tokens.json',\n",
       " '/content/drive/MyDrive/emotion_model/tokenizer.json')"
      ]
     },
     "execution_count": 14,
     "metadata": {},
     "output_type": "execute_result"
    }
   ],
   "source": [
    "model.save_pretrained(\"/content/drive/MyDrive/emotion_model\")\n",
    "tokenizer.save_pretrained(\"/content/drive/MyDrive/emotion_model\")\n"
   ]
  },
  {
   "cell_type": "code",
   "execution_count": 15,
   "metadata": {
    "colab": {
     "base_uri": "https://localhost:8080/"
    },
    "id": "TeWsYdhinmFr",
    "outputId": "41d74a64-4397-4bcb-86e4-cd53bb5dfcda"
   },
   "outputs": [
    {
     "name": "stdout",
     "output_type": "stream",
     "text": [
      "config.json\n",
      "merges.txt\n",
      "model.safetensors\n",
      "special_tokens_map.json\n",
      "tokenizer_config.json\n",
      "tokenizer.json\n",
      "vocab.json\n"
     ]
    }
   ],
   "source": [
    "!ls -1 /content/drive/MyDrive/emotion_model\n"
   ]
  }
 ],
 "metadata": {
  "accelerator": "GPU",
  "colab": {
   "gpuType": "T4",
   "provenance": []
  },
  "kernelspec": {
   "display_name": "Python 3",
   "name": "python3"
  },
  "language_info": {
   "name": "python"
  }
 },
 "nbformat": 4,
 "nbformat_minor": 0
}
